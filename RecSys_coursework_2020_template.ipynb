{
  "nbformat": 4,
  "nbformat_minor": 0,
  "metadata": {
    "colab": {
      "name": "Copy of Copy of RecSys coursework 2020 template.ipynb",
      "provenance": [],
      "collapsed_sections": [],
      "machine_shape": "hm"
    },
    "kernelspec": {
      "name": "python3",
      "display_name": "Python 3"
    }
  },
  "cells": [
    {
      "cell_type": "markdown",
      "metadata": {
        "id": "THQFNe3zdt1f",
        "colab_type": "text"
      },
      "source": [
        "# Assessed Coursework Template Notebook\n",
        "\n",
        "This is the template notebook for the RecSys(H) 2020 coursework. It deals with data preparation and evaluation only.\n",
        "\n",
        "Please note:\n",
        " - use H1 text headings for grouping together blocks of cells. You can then hide these while working on other blocks\n",
        " - leave the cell output visible when you submit the notebook\n",
        "\n"
      ]
    },
    {
      "cell_type": "markdown",
      "metadata": {
        "id": "Ww--_kl9-ndn",
        "colab_type": "text"
      },
      "source": [
        "## Setup block\n",
        "\n",
        "Setup the data files, Python etc."
      ]
    },
    {
      "cell_type": "code",
      "metadata": {
        "id": "iFgYpbhh0tkX",
        "colab_type": "code",
        "outputId": "5b9e9327-3efa-49e9-99f1-f324b35d7665",
        "colab": {
          "base_uri": "https://localhost:8080/",
          "height": 221
        }
      },
      "source": [
        "!rm -rf ratings* books* to_read* test*\n",
        "\n",
        "!curl -o ratings.csv \"http://www.dcs.gla.ac.uk/~craigm/recsysH/coursework/final-ratings.csv\" \n",
        "!curl -o books.csv \"http://www.dcs.gla.ac.uk/~craigm/recsysH/coursework/final-books.csv\"\n",
        "!curl -o to_read.csv \"http://www.dcs.gla.ac.uk/~craigm/recsysH/coursework/final-to_read.csv\"\n",
        "!curl -o test.csv \"http://www.dcs.gla.ac.uk/~craigm/recsysH/coursework/final-test.csv\""
      ],
      "execution_count": 2,
      "outputs": [
        {
          "output_type": "stream",
          "text": [
            "  % Total    % Received % Xferd  Average Speed   Time    Time     Time  Current\n",
            "                                 Dload  Upload   Total   Spent    Left  Speed\n",
            "100 7631k  100 7631k    0     0  4763k      0  0:00:01  0:00:01 --:--:-- 4763k\n",
            "  % Total    % Received % Xferd  Average Speed   Time    Time     Time  Current\n",
            "                                 Dload  Upload   Total   Spent    Left  Speed\n",
            "100 2366k  100 2366k    0     0  2073k      0  0:00:01  0:00:01 --:--:-- 2072k\n",
            "  % Total    % Received % Xferd  Average Speed   Time    Time     Time  Current\n",
            "                                 Dload  Upload   Total   Spent    Left  Speed\n",
            "100 7581k  100 7581k    0     0  6164k      0  0:00:01  0:00:01 --:--:-- 6164k\n",
            "  % Total    % Received % Xferd  Average Speed   Time    Time     Time  Current\n",
            "                                 Dload  Upload   Total   Spent    Left  Speed\n",
            "100 1895k  100 1895k    0     0  1358k      0  0:00:01  0:00:01 --:--:-- 1358k\n"
          ],
          "name": "stdout"
        }
      ]
    },
    {
      "cell_type": "code",
      "metadata": {
        "id": "1VpVnNrZ1EiX",
        "colab_type": "code",
        "outputId": "bf348d2b-1e36-49a1-8b43-32a6379698da",
        "colab": {
          "base_uri": "https://localhost:8080/",
          "height": 224
        }
      },
      "source": [
        "#Standard setup\n",
        "import pandas as pd\n",
        "import numpy as np\n",
        "import torch\n",
        "!pip install git+https://github.com/cmacdonald/spotlight.git@master#egg=spotlight\n",
        "from spotlight.interactions import Interactions\n"
      ],
      "execution_count": 3,
      "outputs": [
        {
          "output_type": "stream",
          "text": [
            "Collecting spotlight\n",
            "  Cloning https://github.com/cmacdonald/spotlight.git (to revision master) to /tmp/pip-install-i9_0imkz/spotlight\n",
            "  Running command git clone -q https://github.com/cmacdonald/spotlight.git /tmp/pip-install-i9_0imkz/spotlight\n",
            "Requirement already satisfied: torch>=0.4.0 in /usr/local/lib/python3.6/dist-packages (from spotlight) (1.4.0)\n",
            "Building wheels for collected packages: spotlight\n",
            "  Building wheel for spotlight (setup.py) ... \u001b[?25l\u001b[?25hdone\n",
            "  Created wheel for spotlight: filename=spotlight-0.1.6-cp36-none-any.whl size=34096 sha256=fa7798c59e606d9f2ed83e26096e2c51800cd414648bbb9f1d17f3bc4bb274cb\n",
            "  Stored in directory: /tmp/pip-ephem-wheel-cache-pyxvktwg/wheels/22/6f/f1/68cc6c5b563e78737e4a8fed63ddc105a3baf25d2abccae0c6\n",
            "Successfully built spotlight\n",
            "Installing collected packages: spotlight\n",
            "Successfully installed spotlight-0.1.6\n"
          ],
          "name": "stdout"
        }
      ]
    },
    {
      "cell_type": "markdown",
      "metadata": {
        "id": "RtJO0e0m-hun",
        "colab_type": "text"
      },
      "source": [
        "# data preparation"
      ]
    },
    {
      "cell_type": "code",
      "metadata": {
        "id": "qKAb25iw1MYw",
        "colab_type": "code",
        "colab": {}
      },
      "source": [
        "#load in the csv files\n",
        "ratings_df = pd.read_csv(\"ratings.csv\")\n",
        "books_df = pd.read_csv(\"books.csv\")\n",
        "to_read_df = pd.read_csv(\"to_read.csv\")\n",
        "test = pd.read_csv(\"test.csv\")"
      ],
      "execution_count": 0,
      "outputs": []
    },
    {
      "cell_type": "code",
      "metadata": {
        "id": "W6rqfn53OhDC",
        "colab_type": "code",
        "colab": {}
      },
      "source": [
        "#cut down the number of items and users\n",
        "counts=ratings_df[ratings_df[\"book_id\"] < 2000].groupby([\"book_id\"]).count().reset_index()\n",
        "valid_books=counts[counts[\"user_id\"] >= 10][[\"book_id\"]]\n",
        "\n",
        "books_df = books_df.merge(valid_books, on=\"book_id\")\n",
        "\n",
        "ratings_df = ratings_df[ratings_df[\"user_id\"] < 2000].merge(valid_books, on=\"book_id\")\n",
        "to_read_df = to_read_df[to_read_df[\"user_id\"] < 2000].merge(valid_books, on=\"book_id\")\n",
        "test = test[test[\"user_id\"] < 2000].merge(valid_books, on=\"book_id\")\n"
      ],
      "execution_count": 0,
      "outputs": []
    },
    {
      "cell_type": "markdown",
      "metadata": {
        "id": "C7cgXhmYUXIn",
        "colab_type": "text"
      },
      "source": [
        "Here we construct the Interactions objects from `ratings.csv`, `to_read.csv` and `test.csv`. We manually specify the num_users and num_items parameters to all Interaction objects, in case the test set differs from your training sets."
      ]
    },
    {
      "cell_type": "code",
      "metadata": {
        "id": "15ClgJOdTTt1",
        "colab_type": "code",
        "outputId": "e3edf6ce-58e1-4aa9-dd62-e3fd8d71b9ff",
        "colab": {
          "base_uri": "https://localhost:8080/",
          "height": 68
        }
      },
      "source": [
        "from collections import defaultdict\n",
        "from itertools import count\n",
        "\n",
        "from spotlight.cross_validation import random_train_test_split\n",
        "\n",
        "iid_map = defaultdict(count().__next__)\n",
        "rating_iids = np.array([iid_map[iid] for iid in ratings_df[\"book_id\"].values], dtype = np.int32)\n",
        "test_iids = np.array([iid_map[iid] for iid in test[\"book_id\"].values], dtype = np.int32)\n",
        "toread_iids = np.array([iid_map[iid] for iid in to_read_df[\"book_id\"].values], dtype = np.int32)\n",
        "\n",
        "\n",
        "uid_map = defaultdict(count().__next__)\n",
        "test_uids = np.array([uid_map[uid] for uid in test[\"user_id\"].values], dtype = np.int32)\n",
        "rating_uids = np.array([uid_map[uid] for uid in ratings_df[\"user_id\"].values], dtype = np.int32)\n",
        "toread_uids = np.array([uid_map[iid] for iid in to_read_df[\"user_id\"].values], dtype = np.int32)\n",
        "\n",
        "\n",
        "uid_rev_map = {v: k for k, v in uid_map.items()}\n",
        "iid_rev_map = {v: k for k, v in iid_map.items()}\n",
        "\n",
        "\n",
        "rating_dataset = Interactions(user_ids=rating_uids,\n",
        "                               item_ids=rating_iids,\n",
        "                               ratings=ratings_df[\"rating\"].values,\n",
        "                               num_users=len(uid_rev_map),\n",
        "                               num_items=len(iid_rev_map))\n",
        "\n",
        "toread_dataset = Interactions(user_ids=toread_uids,\n",
        "                               item_ids=toread_iids,\n",
        "                               num_users=len(uid_rev_map),\n",
        "                               num_items=len(iid_rev_map))\n",
        "\n",
        "test_dataset = Interactions(user_ids=test_uids,\n",
        "                               item_ids=test_iids,\n",
        "                               num_users=len(uid_rev_map),\n",
        "                               num_items=len(iid_rev_map))\n",
        "\n",
        "print(rating_dataset)\n",
        "print(toread_dataset)\n",
        "print(test_dataset)\n",
        "\n",
        "#here we define the validation set\n",
        "#toread_dataset_train, validation = random_train_test_split(toread_dataset, random_state=np.random.seed(42))\n",
        "toread_dataset_train, validation = random_train_test_split(toread_dataset, random_state=np.random.RandomState(42))\n",
        "num_items = test_dataset.num_items\n",
        "num_users = test_dataset.num_users"
      ],
      "execution_count": 6,
      "outputs": [
        {
          "output_type": "stream",
          "text": [
            "<Interactions dataset (1999 users x 1826 items x 124762 interactions)>\n",
            "<Interactions dataset (1999 users x 1826 items x 135615 interactions)>\n",
            "<Interactions dataset (1999 users x 1826 items x 33917 interactions)>\n"
          ],
          "name": "stdout"
        }
      ]
    },
    {
      "cell_type": "markdown",
      "metadata": {
        "id": "Kt4I2C5DTUL5",
        "colab_type": "text"
      },
      "source": [
        "#Example code\n",
        "\n",
        "To evaluate soem of your hand-implemented recommender systems (e.g. Q1, Q4), you will need to instantiate objects that match the specification of a Spotlight model, which `mrr_score()` expects.\n",
        "\n",
        "\n",
        "Here is an example recommender object that returns 0 for each item, regardless of user."
      ]
    },
    {
      "cell_type": "code",
      "metadata": {
        "id": "s2eaxy_hakbC",
        "colab_type": "code",
        "outputId": "e98e4f94-bc4a-43b4-fccf-f1e605366eef",
        "colab": {
          "base_uri": "https://localhost:8080/",
          "height": 34
        }
      },
      "source": [
        "from spotlight.evaluation import mrr_score\n",
        "\n",
        "\n",
        "class dummymodel:\n",
        "  \n",
        "  def __init__(self, numitems):\n",
        "    self.predictions=np.zeros(numitems)\n",
        "  \n",
        "  #uid is the user we are requesting recommendations for;\n",
        "  #returns an array of scores, one for each item\n",
        "  def predict(self, uid):\n",
        "    #this model returns all zeros, regardless of userid\n",
        "    return( self.predictions )\n",
        "\n",
        "#lets evaluate how the effeciveness of dummymodel\n",
        "\n",
        "print(mrr_score(dummymodel(num_items), test_dataset, train=rating_dataset, k=100).mean())\n",
        "#as expected, a recommendation model that gives 0 scores for all items obtains a MRR score of 0\n",
        "\n"
      ],
      "execution_count": 7,
      "outputs": [
        {
          "output_type": "stream",
          "text": [
            "0.0\n"
          ],
          "name": "stdout"
        }
      ]
    },
    {
      "cell_type": "code",
      "metadata": {
        "id": "ZQTJOmS5dB3i",
        "colab_type": "code",
        "outputId": "0ef8da48-abb9-47bb-9adf-814a1ea36671",
        "colab": {
          "base_uri": "https://localhost:8080/",
          "height": 51
        }
      },
      "source": [
        "\n",
        "#note that the latest copy of Craig's Spotlight displays a progress bar if you set verbose=True\n",
        "print(mrr_score(dummymodel(num_items), test_dataset, train=rating_dataset, k=100, verbose=True).mean())\n"
      ],
      "execution_count": 8,
      "outputs": [
        {
          "output_type": "stream",
          "text": [
            "1999it [00:00, 2952.89it/s]"
          ],
          "name": "stderr"
        },
        {
          "output_type": "stream",
          "text": [
            "0.0\n"
          ],
          "name": "stdout"
        },
        {
          "output_type": "stream",
          "text": [
            "\n"
          ],
          "name": "stderr"
        }
      ]
    },
    {
      "cell_type": "code",
      "metadata": {
        "id": "zQQLGRM11zEk",
        "colab_type": "code",
        "colab": {}
      },
      "source": [
        "test"
      ],
      "execution_count": 0,
      "outputs": []
    },
    {
      "cell_type": "markdown",
      "metadata": {
        "id": "SyvGgW_3ZjLV",
        "colab_type": "text"
      },
      "source": [
        "#Q1\n"
      ]
    },
    {
      "cell_type": "code",
      "metadata": {
        "id": "gsDUxXxEUq7f",
        "colab_type": "code",
        "outputId": "86d604ea-2e21-4345-e891-0dc488a89e22",
        "colab": {
          "base_uri": "https://localhost:8080/",
          "height": 34
        }
      },
      "source": [
        "from spotlight.evaluation import mrr_score\n",
        "\n",
        "class averageRating:\n",
        "  \n",
        "  def __init__(self, numitems):\n",
        "    self.predictions= ratings_df.groupby(ratings_df['book_id']).mean().reset_index()['rating']\n",
        "  \n",
        "  def predict(self, uid):\n",
        "    return (self.predictions)\n",
        "\n",
        "print(mrr_score(averageRating(num_items), test_dataset).mean())"
      ],
      "execution_count": 71,
      "outputs": [
        {
          "output_type": "stream",
          "text": [
            "0.011335079304358063\n"
          ],
          "name": "stdout"
        }
      ]
    },
    {
      "cell_type": "code",
      "metadata": {
        "id": "B39oHwYvcP8Z",
        "colab_type": "code",
        "outputId": "24de88e3-a75e-42ce-ddf1-88c59ba3d759",
        "colab": {
          "base_uri": "https://localhost:8080/",
          "height": 34
        }
      },
      "source": [
        "print(books_df['original_title'].loc[to_read_df[\"user_id\"] == 1])"
      ],
      "execution_count": 10,
      "outputs": [
        {
          "output_type": "stream",
          "text": [
            "Series([], Name: original_title, dtype: object)\n"
          ],
          "name": "stdout"
        }
      ]
    },
    {
      "cell_type": "code",
      "metadata": {
        "id": "sn9QL5DDbHsY",
        "colab_type": "code",
        "outputId": "f208ddd4-49cb-4fd4-d37c-511c7e3a6cd3",
        "colab": {
          "base_uri": "https://localhost:8080/",
          "height": 34
        }
      },
      "source": [
        "class ratingCount:\n",
        "  \n",
        "  def __init__(self, numitems):\n",
        "    self.predictions=books_df.sort_values('ratings_count', ascending=True)['book_id']\n",
        "  \n",
        "  #uid is the user we are requesting recommendations for;\n",
        "  #returns an array of scores, one for each item\n",
        "  def predict(self, uid):\n",
        "\n",
        "    #this model returns all zeros, regardless of userid\n",
        "    return (self.predictions)\n",
        "\n",
        "#lets evaluate how the effeciveness of dummymodel\n",
        "\n",
        "ratingCount = mrr_score(ratingCount(num_items), test_dataset).mean()\n",
        "print(ratingCount)\n",
        "#as expected, a recommendation model that gives 0 scores for all items obtains a MRR score of 0\n"
      ],
      "execution_count": 11,
      "outputs": [
        {
          "output_type": "stream",
          "text": [
            "0.06652234847582521\n"
          ],
          "name": "stdout"
        }
      ]
    },
    {
      "cell_type": "markdown",
      "metadata": {
        "id": "v93Qq1aBZke6",
        "colab_type": "text"
      },
      "source": [
        ""
      ]
    },
    {
      "cell_type": "code",
      "metadata": {
        "id": "7JFOPSqScmsN",
        "colab_type": "code",
        "outputId": "f84108d1-0672-448d-d0b4-f48b31f622ea",
        "colab": {
          "base_uri": "https://localhost:8080/",
          "height": 34
        }
      },
      "source": [
        "class fiveStarRating:\n",
        "  \n",
        "  def __init__(self, numitems):\n",
        "     self.predictions=books_df.sort_values('ratings_5', ascending=True)['book_id']\n",
        "  \n",
        "  #uid is the user we are requesting recommendations for;\n",
        "  #returns an array of scores, one for each item\n",
        "  def predict(self, uid):\n",
        "\n",
        "    #this model returns all zeros, regardless of userid\n",
        "    return (self.predictions)\n",
        "\n",
        "#lets evaluate how the effeciveness of dummymodel\n",
        "\n",
        "print(mrr_score(fiveStarRating(num_items), test_dataset).mean())\n",
        "#as expected, a recommendation model that gives 0 scores for all items obtains a MRR score of 0"
      ],
      "execution_count": 12,
      "outputs": [
        {
          "output_type": "stream",
          "text": [
            "0.0706889158865147\n"
          ],
          "name": "stdout"
        }
      ]
    },
    {
      "cell_type": "code",
      "metadata": {
        "id": "CBMC6yux4XT9",
        "colab_type": "code",
        "outputId": "eec81f79-d7fd-4fd2-ca53-88ca08e009ef",
        "colab": {
          "base_uri": "https://localhost:8080/",
          "height": 34
        }
      },
      "source": [
        "class fracOfFiveStarRating:\n",
        "  \n",
        "  def __init__(self, numitems):\n",
        "    fiveS_R = np.array(books_df.sort_values('ratings_5', ascending=True)['book_id'])\n",
        "    rating_c = np.array(books_df.sort_values('ratings_count', ascending=True)['book_id'])\n",
        "    self.predictions=np.divide(fiveS_R, rating_c)\n",
        "  \n",
        "  #uid is the user we are requesting recommendations for;\n",
        "  #returns an array of scores, one for each item\n",
        "  def predict(self, uid):\n",
        "\n",
        "    #this model returns all zeros, regardless of userid\n",
        "    return (self.predictions)\n",
        "\n",
        "#lets evaluate how the effeciveness of dummymodel\n",
        "\n",
        "print(mrr_score(fracOfFiveStarRating(num_items), test_dataset).mean())\n",
        "#as expected, a recommendation model that gives 0 scores for all items obtains a MRR score of 0"
      ],
      "execution_count": 13,
      "outputs": [
        {
          "output_type": "stream",
          "text": [
            "0.01890191127309687\n"
          ],
          "name": "stdout"
        }
      ]
    },
    {
      "cell_type": "code",
      "metadata": {
        "id": "s2glimyTsVzL",
        "colab_type": "code",
        "colab": {}
      },
      "source": [
        "rating_dataset_train, rating_validation = random_train_test_split(rating_dataset, random_state=np.random.RandomState(42))"
      ],
      "execution_count": 0,
      "outputs": []
    },
    {
      "cell_type": "code",
      "metadata": {
        "id": "6nmzPC_QNBQp",
        "colab_type": "code",
        "outputId": "83db2be1-da5e-4a89-a877-d41527471d4e",
        "colab": {
          "base_uri": "https://localhost:8080/",
          "height": 493
        }
      },
      "source": [
        "from spotlight.factorization.explicit import ExplicitFactorizationModel\n",
        "import time  \n",
        "\n",
        "latent_factors = [8,16,32,64]\n",
        "\n",
        "for latent_factor in latent_factors:\n",
        "  emodel = ExplicitFactorizationModel(n_iter=5, embedding_dim=latent_factor, random_state=np.random.RandomState(1))\n",
        "  current = time.time()\n",
        "\n",
        "  emodel.fit(rating_dataset_train, verbose=True)\n",
        "\n",
        "  end = time.time()\n",
        "  diff = end - current\n",
        "  print(\"Training took %d seconds \"% (diff))\n",
        "  print(mrr_score(emodel, rating_validation, train=rating_dataset_train).mean())\n"
      ],
      "execution_count": 33,
      "outputs": [
        {
          "output_type": "stream",
          "text": [
            "Epoch 0: loss 6.852240679508601\n",
            "Epoch 1: loss 0.8537795037795336\n",
            "Epoch 2: loss 0.7273159543673198\n",
            "Epoch 3: loss 0.6822295100261003\n",
            "Epoch 4: loss 0.6443206302630595\n",
            "Training took 6 seconds \n",
            "0.027137973748779153\n",
            "Epoch 0: loss 5.486129596752998\n",
            "Epoch 1: loss 0.8041121728909322\n",
            "Epoch 2: loss 0.6929380716421665\n",
            "Epoch 3: loss 0.6088081004527899\n",
            "Epoch 4: loss 0.5440075484605936\n",
            "Training took 6 seconds \n",
            "0.023598108578098572\n",
            "Epoch 0: loss 4.63195909735484\n",
            "Epoch 1: loss 0.8125760692816514\n",
            "Epoch 2: loss 0.6367778570224077\n",
            "Epoch 3: loss 0.489212008470144\n",
            "Epoch 4: loss 0.39298825714832697\n",
            "Training took 10 seconds \n",
            "0.0395703804283094\n",
            "Epoch 0: loss 4.222629998738949\n",
            "Epoch 1: loss 0.7687427204388838\n",
            "Epoch 2: loss 0.49041887819767\n",
            "Epoch 3: loss 0.34664548280147406\n",
            "Epoch 4: loss 0.29705566125802507\n",
            "Training took 11 seconds \n",
            "0.037427046856761716\n"
          ],
          "name": "stdout"
        }
      ]
    },
    {
      "cell_type": "code",
      "metadata": {
        "id": "g8VZkw2hPvW8",
        "colab_type": "code",
        "outputId": "e4c4d632-dcb4-48bd-feec-d9ea60476498",
        "colab": {
          "base_uri": "https://localhost:8080/",
          "height": 136
        }
      },
      "source": [
        "from spotlight.factorization.explicit import ExplicitFactorizationModel\n",
        "import time  \n",
        "emodel = ExplicitFactorizationModel(n_iter=5, embedding_dim=32, random_state=np.random.RandomState(1))\n",
        "current = time.time()\n",
        "emodel.fit(rating_dataset_train, verbose=True)\n",
        "end = time.time()\n",
        "diff = end - current\n",
        "print(\"Training took %d seconds \"% (diff))\n",
        "print(mrr_score(emodel, test_dataset, train=rating_dataset_train).mean())"
      ],
      "execution_count": 36,
      "outputs": [
        {
          "output_type": "stream",
          "text": [
            "Epoch 0: loss 4.63195909735484\n",
            "Epoch 1: loss 0.8125760692816514\n",
            "Epoch 2: loss 0.6367778570224077\n",
            "Epoch 3: loss 0.489212008470144\n",
            "Epoch 4: loss 0.39298825714832697\n",
            "Training took 9 seconds \n",
            "0.05402085963616729\n"
          ],
          "name": "stdout"
        }
      ]
    },
    {
      "cell_type": "code",
      "metadata": {
        "id": "wumGWC7Occta",
        "colab_type": "code",
        "outputId": "95bb4c81-951e-4d36-9438-7f2dc45b35a2",
        "colab": {
          "base_uri": "https://localhost:8080/",
          "height": 561
        }
      },
      "source": [
        "from spotlight.factorization.implicit import ImplicitFactorizationModel\n",
        "import time  \n",
        "latent_factors = [8,16,32,64]\n",
        "\n",
        "for latent_factor in latent_factors:\n",
        "  imodel = ImplicitFactorizationModel(n_iter=5, loss='bpr', embedding_dim=latent_factor, random_state=np.random.RandomState(1))\n",
        "  current = time.time()\n",
        "\n",
        "  imodel.fit(rating_dataset_train, verbose=True)\n",
        "\n",
        "  end = time.time()\n",
        "  diff = end - current\n",
        "  print(\"Training took %d seconds \"% (diff))\n",
        "  print(mrr_score(imodel, rating_validation, train=rating_dataset_train).mean())\n",
        "  print(mrr_score(imodel, rating_validation).mean())\n",
        "\n"
      ],
      "execution_count": 38,
      "outputs": [
        {
          "output_type": "stream",
          "text": [
            "Epoch 0: loss 0.3985566278298696\n",
            "Epoch 1: loss 0.24925577029203758\n",
            "Epoch 2: loss 0.19070154290932875\n",
            "Epoch 3: loss 0.1704374448229105\n",
            "Epoch 4: loss 0.15779437380723463\n",
            "Training took 11 seconds \n",
            "0.27890790633411944\n",
            "0.19125078412221985\n",
            "Epoch 0: loss 0.36774481981992724\n",
            "Epoch 1: loss 0.21139488021532696\n",
            "Epoch 2: loss 0.1733851354282636\n",
            "Epoch 3: loss 0.1555090199296291\n",
            "Epoch 4: loss 0.14204624140491853\n",
            "Training took 12 seconds \n",
            "0.28041758974725456\n",
            "0.19008512192604238\n",
            "Epoch 0: loss 0.34449376723705194\n",
            "Epoch 1: loss 0.19189196278651555\n",
            "Epoch 2: loss 0.1546030117151065\n",
            "Epoch 3: loss 0.1375689512835099\n",
            "Epoch 4: loss 0.1251786368397566\n",
            "Training took 17 seconds \n",
            "0.29615541897933095\n",
            "0.1982030697888627\n",
            "Epoch 0: loss 0.3287767251332601\n",
            "Epoch 1: loss 0.177439079586512\n",
            "Epoch 2: loss 0.13962622773952973\n",
            "Epoch 3: loss 0.12147386717872742\n",
            "Epoch 4: loss 0.10678537526191809\n",
            "Training took 19 seconds \n",
            "0.2870834226637128\n",
            "0.17734740386066047\n"
          ],
          "name": "stdout"
        }
      ]
    },
    {
      "cell_type": "code",
      "metadata": {
        "id": "iSwx9qnWR3qu",
        "colab_type": "code",
        "outputId": "79188b2b-6e71-4ac0-fa99-9bcbf6e2e78b",
        "colab": {
          "base_uri": "https://localhost:8080/",
          "height": 136
        }
      },
      "source": [
        "from spotlight.factorization.implicit import ImplicitFactorizationModel\n",
        "import time  \n",
        "imodel_best1 = ImplicitFactorizationModel(n_iter=5, loss='bpr', embedding_dim=32, random_state=np.random.RandomState(1))\n",
        "current = time.time()\n",
        "imodel_best1.fit(rating_dataset_train, verbose=True)\n",
        "end = time.time()\n",
        "diff = end - current\n",
        "print(\"Training took %d seconds \"% (diff))\n",
        "imodel_best1_mrr=mrr_score(imodel_best1, test_dataset, train=rating_dataset_train).mean()\n",
        "print(imodel_best1_mrr)\n"
      ],
      "execution_count": 42,
      "outputs": [
        {
          "output_type": "stream",
          "text": [
            "Epoch 0: loss 0.34449376723705194\n",
            "Epoch 1: loss 0.19189196278651555\n",
            "Epoch 2: loss 0.1546030117151065\n",
            "Epoch 3: loss 0.1375689512835099\n",
            "Epoch 4: loss 0.1251786368397566\n",
            "Training took 17 seconds \n",
            "0.34979116542398186\n"
          ],
          "name": "stdout"
        }
      ]
    },
    {
      "cell_type": "code",
      "metadata": {
        "id": "DNBbQmASbF5N",
        "colab_type": "code",
        "outputId": "987f7169-6b35-4609-dc2e-40f36917f781",
        "colab": {
          "base_uri": "https://localhost:8080/",
          "height": 493
        }
      },
      "source": [
        "from spotlight.factorization.implicit import ImplicitFactorizationModel\n",
        "import time  \n",
        "latent_factors = [8,16,32,64]\n",
        "for latent_factor in latent_factors:\n",
        "  imodelBPR = ImplicitFactorizationModel(n_iter=5, loss='bpr', embedding_dim=latent_factor, random_state=np.random.RandomState(1))\n",
        "  current = time.time()\n",
        "\n",
        "  imodelBPR.fit(toread_dataset_train, verbose=True)\n",
        "\n",
        "  end = time.time()\n",
        "  diff = end - current\n",
        "  print(\"Training took %d seconds \"% (diff))\n",
        "  print(mrr_score(imodelBPR, validation, train=toread_dataset_train).mean()) "
      ],
      "execution_count": 43,
      "outputs": [
        {
          "output_type": "stream",
          "text": [
            "Epoch 0: loss 0.39337800112816523\n",
            "Epoch 1: loss 0.24179184918274294\n",
            "Epoch 2: loss 0.19207951633857107\n",
            "Epoch 3: loss 0.17463349203034392\n",
            "Epoch 4: loss 0.16280447224260503\n",
            "Training took 12 seconds \n",
            "0.28628004478429686\n",
            "Epoch 0: loss 0.35834955793084966\n",
            "Epoch 1: loss 0.2094157070694667\n",
            "Epoch 2: loss 0.17453473395193522\n",
            "Epoch 3: loss 0.15932149856509464\n",
            "Epoch 4: loss 0.14717754435215918\n",
            "Training took 12 seconds \n",
            "0.29981260471505594\n",
            "Epoch 0: loss 0.3424184679774181\n",
            "Epoch 1: loss 0.19521144282002495\n",
            "Epoch 2: loss 0.16036324589601103\n",
            "Epoch 3: loss 0.14363892933459216\n",
            "Epoch 4: loss 0.1304559223529584\n",
            "Training took 19 seconds \n",
            "0.2977478818774467\n",
            "Epoch 0: loss 0.32598371304712204\n",
            "Epoch 1: loss 0.18099869759577625\n",
            "Epoch 2: loss 0.14648431298797424\n",
            "Epoch 3: loss 0.1284485306098776\n",
            "Epoch 4: loss 0.11467573814586086\n",
            "Training took 21 seconds \n",
            "0.29401506308709907\n"
          ],
          "name": "stdout"
        }
      ]
    },
    {
      "cell_type": "code",
      "metadata": {
        "id": "eItRmfq9TWaX",
        "colab_type": "code",
        "outputId": "b847db8e-9253-48b6-bb1e-0d479bc27316",
        "colab": {
          "base_uri": "https://localhost:8080/",
          "height": 136
        }
      },
      "source": [
        "from spotlight.factorization.implicit import ImplicitFactorizationModel\n",
        "import time  \n",
        "imodel_best2 = ImplicitFactorizationModel(n_iter=5, loss='bpr', embedding_dim=16, random_state=np.random.RandomState(1))\n",
        "current = time.time()\n",
        "imodel_best2.fit(toread_dataset_train, verbose=True)\n",
        "end = time.time()\n",
        "diff = end - current\n",
        "print(\"Training took %d seconds \"% (diff))\n",
        "imodel_best2_mrr = mrr_score(imodel_best2, test_dataset, train=toread_dataset_train).mean()\n",
        "print(imodel_best2_mrr)"
      ],
      "execution_count": 57,
      "outputs": [
        {
          "output_type": "stream",
          "text": [
            "Epoch 0: loss 0.35834955793084966\n",
            "Epoch 1: loss 0.2094157070694667\n",
            "Epoch 2: loss 0.17453473395193522\n",
            "Epoch 3: loss 0.15932149856509464\n",
            "Epoch 4: loss 0.14717754435215918\n",
            "Training took 13 seconds \n",
            "0.3376630775705313\n"
          ],
          "name": "stdout"
        }
      ]
    },
    {
      "cell_type": "code",
      "metadata": {
        "id": "Jvi9jCMu9Tez",
        "colab_type": "code",
        "colab": {}
      },
      "source": [
        "import scipy.stats as st\n",
        "import torch.nn as nn"
      ],
      "execution_count": 0,
      "outputs": []
    },
    {
      "cell_type": "code",
      "metadata": {
        "id": "oAVoC_jZ2wwE",
        "colab_type": "code",
        "colab": {
          "base_uri": "https://localhost:8080/",
          "height": 34
        },
        "outputId": "ba7ecb0e-e30d-40e9-ee03-69389c009868"
      },
      "source": [
        "len(toread_iids[toread_uids==1])"
      ],
      "execution_count": 102,
      "outputs": [
        {
          "output_type": "execute_result",
          "data": {
            "text/plain": [
              "96"
            ]
          },
          "metadata": {
            "tags": []
          },
          "execution_count": 102
        }
      ]
    },
    {
      "cell_type": "code",
      "metadata": {
        "id": "AlZtKz6y36HY",
        "colab_type": "code",
        "colab": {
          "base_uri": "https://localhost:8080/",
          "height": 34
        },
        "outputId": "3ac35196-1046-432f-90d0-77600382f2c8"
      },
      "source": [
        "len(test_iids[test_uids==1])"
      ],
      "execution_count": 101,
      "outputs": [
        {
          "output_type": "execute_result",
          "data": {
            "text/plain": [
              "18"
            ]
          },
          "metadata": {
            "tags": []
          },
          "execution_count": 101
        }
      ]
    },
    {
      "cell_type": "code",
      "metadata": {
        "id": "JTbnDAzSaE8z",
        "colab_type": "code",
        "outputId": "93cef280-6361-4162-b5be-b06755117123",
        "colab": {
          "base_uri": "https://localhost:8080/",
          "height": 51
        }
      },
      "source": [
        "import scipy.stats as st\n",
        "rrs = mrr_score(imodel_best2, test_dataset)\n",
        "RR_ranks = st.rankdata(-rrs, method='min')\n",
        "def countRatings(uid, rr):  \n",
        "  print(\"User with id %d with RR %f had %d books\" %( uid, rr, len(toread_iids[toread_uids==uid])))\n",
        "  print(\"User with id %d with RR %f has %d more ratings from test_dataset\" %( uid, rr, len(test_iids[test_uids==uid])))\n",
        "\n",
        "countRatings( np.argwhere(RR_ranks==1).item(0), rrs[RR_ranks==1].item(0) )\n",
        "\n",
        "\n"
      ],
      "execution_count": 149,
      "outputs": [
        {
          "output_type": "stream",
          "text": [
            "User with id 1 with RR 1.000000 had 96 books\n",
            "User with id 1 with RR 1.000000 has 18 more ratings from test_dataset\n"
          ],
          "name": "stdout"
        }
      ]
    },
    {
      "cell_type": "code",
      "metadata": {
        "id": "_J26Bi8LCIj6",
        "colab_type": "code",
        "colab": {}
      },
      "source": [
        "books_1 = books_df['book_id'].loc[toread_iids[toread_uids==1]]\n",
        "books_2 = books_df['book_id'].loc[test_iids[test_uids==1]]\n",
        "books_2\n"
      ],
      "execution_count": 0,
      "outputs": []
    },
    {
      "cell_type": "code",
      "metadata": {
        "id": "g5ZGe7L4v6XA",
        "colab_type": "code",
        "colab": {}
      },
      "source": [
        "#this method predics the top five book items for the given user\n",
        " \n",
        "def tracksForUser(user, k=5):\n",
        "  ranks = st.rankdata(-imodel_best2.predict(user))  \n",
        "  for iid in np.argwhere(ranks <= k):\n",
        "    print(iid_rev_map[iid.item(0)], books_df['original_title'].loc[books_df['book_id']==iid_rev_map[iid.item(0)]])\n",
        " \n",
        "tracksForUser(2)"
      ],
      "execution_count": 0,
      "outputs": []
    },
    {
      "cell_type": "code",
      "metadata": {
        "id": "O0EaIPHUjir-",
        "colab_type": "code",
        "outputId": "52e21dac-72b6-4913-b95e-15015a343161",
        "colab": {
          "base_uri": "https://localhost:8080/",
          "height": 170
        }
      },
      "source": [
        "#this method calculate the cosine similarity and ILD \n",
        "\n",
        "def mostsimilar(targetBookId, model):\n",
        "  highest=0\n",
        "  highestCos=0\n",
        "  highestCos_ild =0\n",
        "  targetIId=iid_map.get(targetBookId)\n",
        "\n",
        "  for x in range(0,model._num_items):\n",
        "    if x != targetIId:\n",
        "      cosine = nn.functional.cosine_similarity(\n",
        "            model._net.item_embeddings.weight[targetIId], \n",
        "          model._net.item_embeddings.weight[x], \n",
        "          dim=0)\n",
        "      if cosine > highestCos:\n",
        "        highest = x\n",
        "        highestCos = cosine\n",
        "        highestCos_ild += 1 - highestCos\n",
        "        ild = highestCos_ild / (5*(5-1))\n",
        "        \n",
        "  print(ild)  \n",
        "\n",
        "  print(cosine.data) \n",
        "  \n",
        "\n",
        "  print(toread_dataset_train.num_items)\n",
        "  print(\"targetMovieId = %d (iid %d)\" % (targetBookId, targetIId))\n",
        "  print(books_df['original_title'].loc[books_df['book_id']==targetBookId])\n",
        "  print(\"mostSimilar = %d (iid %d) with cosine of %f \" % ( iid_rev_map.get(highest), highest, highestCos))\n",
        "  print(books_df['original_title'].loc[books_df['book_id']==iid_rev_map.get(highest)])\n",
        "  \n",
        "mostsimilar(60, imodel_best2)"
      ],
      "execution_count": 60,
      "outputs": [
        {
          "output_type": "stream",
          "text": [
            "tensor(0.0368, grad_fn=<DivBackward0>)\n",
            "tensor(-0.5993)\n",
            "1826\n",
            "targetMovieId = 60 (iid 77)\n",
            "59    The Curious Incident of the Dog in the Night-Time\n",
            "Name: original_title, dtype: object\n",
            "mostSimilar = 45 (iid 25) with cosine of 0.950975 \n",
            "44    Life of Pi\n",
            "Name: original_title, dtype: object\n"
          ],
          "name": "stdout"
        }
      ]
    },
    {
      "cell_type": "code",
      "metadata": {
        "id": "zj_D128Pw3Z1",
        "colab_type": "code",
        "colab": {
          "base_uri": "https://localhost:8080/",
          "height": 646
        },
        "outputId": "9381f950-4d51-4d46-ba6a-6add5d7e60e7"
      },
      "source": [
        "#This is a combined method of above two function \n",
        "#i.e getting top 5 rank book items and calculating similarity with ILD score\n",
        "\n",
        "def mostsimilar(user, r=5):\n",
        "  highest=0\n",
        "  highestCos=0\n",
        "  highestCos_ild =0\n",
        "  \n",
        "  #this will give the top 5 items for given user.\n",
        "  ranks = st.rankdata(-imodel_best2.predict(user)) \n",
        "  for iid in np.argwhere(ranks <= r):\n",
        "    targetBookId = iid_rev_map[iid.item(0)]\n",
        "    targetIId = iid_map.get(targetBookId)\n",
        "\n",
        "   #nn.functional.cosine_similarity() allows you to calculate the cosine similarity between two vectors. \n",
        "    for x in range(0,imodel_best2._num_items):\n",
        "      if x!= targetIId:\n",
        "        cosine = nn.functional.cosine_similarity(imodel_best2._net.item_embeddings.weight[targetIId], \n",
        "          imodel_best2._net.item_embeddings.weight[x], \n",
        "          dim=0)\n",
        "      if cosine > highestCos:\n",
        "        highest = x\n",
        "        highestCos = cosine\n",
        "    highestCos_ild += 1 - highestCos\n",
        "   \n",
        "    print(cosine.data)\n",
        "    print(highestCos_ild)\n",
        "    print(\"targetBookId = %d (iid %d)\" % (targetBookId, targetIId), books_df['original_title'].loc[books_df['book_id']==targetBookId])\n",
        "    print(\"mostSimilar = %d (iid %d) with cosine of %f \" % ( iid_rev_map.get(highest), highest, highestCos), books_df['original_title'].loc[books_df['book_id']==iid_rev_map.get(highest)] )\n",
        "    print('-----')\n",
        "    highestCos = 0\n",
        "  ild = highestCos_ild / (r*(r-1))\n",
        "  print(ild)\n",
        "  print(toread_dataset_train.num_items)\n",
        "  \n",
        "  \n",
        "mostsimilar(5)"
      ],
      "execution_count": 141,
      "outputs": [
        {
          "output_type": "stream",
          "text": [
            "tensor(-0.7231)\n",
            "tensor(0.0492, grad_fn=<AddBackward0>)\n",
            "targetBookId = 5 (iid 21) 4    The Great Gatsby\n",
            "Name: original_title, dtype: object\n",
            "mostSimilar = 4 (iid 108) with cosine of 0.950816  3    To Kill a Mockingbird\n",
            "Name: original_title, dtype: object\n",
            "-----\n",
            "tensor(-0.7250)\n",
            "tensor(0.1182, grad_fn=<AddBackward0>)\n",
            "targetBookId = 8 (iid 23) 7    The Catcher in the Rye\n",
            "Name: original_title, dtype: object\n",
            "mostSimilar = 233 (iid 104) with cosine of 0.931017  232    El amor en los tiempos del cólera\n",
            "Name: original_title, dtype: object\n",
            "-----\n",
            "tensor(-0.8597)\n",
            "tensor(0.1689, grad_fn=<AddBackward0>)\n",
            "targetBookId = 65 (iid 24) 64    Slaughterhouse-Five, or The Children's Crusade...\n",
            "Name: original_title, dtype: object\n",
            "mostSimilar = 83 (iid 354) with cosine of 0.949221  82    A Tale of Two Cities\n",
            "Name: original_title, dtype: object\n",
            "-----\n",
            "tensor(-0.8734)\n",
            "tensor(0.2118, grad_fn=<AddBackward0>)\n",
            "targetBookId = 14 (iid 33) 13    Animal Farm: A Fairy Story\n",
            "Name: original_title, dtype: object\n",
            "mostSimilar = 28 (iid 52) with cosine of 0.957126  27    Lord of the Flies \n",
            "Name: original_title, dtype: object\n",
            "-----\n",
            "tensor(-0.5993)\n",
            "tensor(0.2608, grad_fn=<AddBackward0>)\n",
            "targetBookId = 60 (iid 77) 59    The Curious Incident of the Dog in the Night-Time\n",
            "Name: original_title, dtype: object\n",
            "mostSimilar = 45 (iid 25) with cosine of 0.950975  44    Life of Pi\n",
            "Name: original_title, dtype: object\n",
            "-----\n",
            "tensor(0.0130, grad_fn=<DivBackward0>)\n",
            "1826\n"
          ],
          "name": "stdout"
        }
      ]
    },
    {
      "cell_type": "code",
      "metadata": {
        "id": "pbU3cvp6GstO",
        "colab_type": "code",
        "outputId": "0bbd06c6-d20b-40c3-a3eb-79738bd4656c",
        "colab": {
          "base_uri": "https://localhost:8080/",
          "height": 34
        }
      },
      "source": [
        "class Combsum:\n",
        "\n",
        "  def __init__(self, numitems):\n",
        "    #self.predictions=imodel_best1.predict(num_items) + imodel_best2.predict(num_items)\n",
        "    self.predictions=np.zeros(numitems)\n",
        "  \n",
        "  #uid is the user we are requesting recommendations for;\n",
        "  #returns an array of scores, one for each item\n",
        "  def predict(self, uid):\n",
        "   \n",
        "   return imodel_best1.predict(uid) + imodel_best2.predict(uid)\n",
        "   #return (imodel_best1.predict(np.array([uid])) + imodel_best2.predict(np.array([uid]))) \n",
        "\n",
        "#lets evaluate how the effeciveness of dummymodel\n",
        "\n",
        "combsum_model=mrr_score(Combsum(num_items), test_dataset).mean()\n",
        "print(combsum_model)\n",
        "\n",
        "#as expected, a recommendation model that gives 0 scores for all items obtains a MRR score of 0"
      ],
      "execution_count": 177,
      "outputs": [
        {
          "output_type": "stream",
          "text": [
            "0.2387177715842048\n"
          ],
          "name": "stdout"
        }
      ]
    },
    {
      "cell_type": "code",
      "metadata": {
        "id": "2RTvwuvJsxzT",
        "colab_type": "code",
        "outputId": "37639cdb-fe90-40f6-9104-8caf37b92dab",
        "colab": {
          "base_uri": "https://localhost:8080/",
          "height": 34
        }
      },
      "source": [
        "print(combsum_model)"
      ],
      "execution_count": 178,
      "outputs": [
        {
          "output_type": "stream",
          "text": [
            "0.2387177715842048\n"
          ],
          "name": "stdout"
        }
      ]
    },
    {
      "cell_type": "code",
      "metadata": {
        "id": "M7nJ_jbfsb29",
        "colab_type": "code",
        "outputId": "ca828d24-9ec8-45a3-9ebf-af84aaceb11f",
        "colab": {
          "base_uri": "https://localhost:8080/",
          "height": 282
        }
      },
      "source": [
        "import scipy.stats as st\n",
        "import matplotlib.pyplot as plt\n",
        "\n",
        "best_model = mrr_score(imodel_best2, test_dataset)\n",
        "combsum_model = mrr_score(Combsum(num_items), test_dataset)\n",
        "\n",
        "uids= []\n",
        "y = []\n",
        "x = []\n",
        "for uid in np.argwhere(best_model < combsum_model):\n",
        "  if(best_model[uid] < combsum_model[uid]):\n",
        "    y.append(best_model[uid].item(0))\n",
        "    x.append(combsum_model[uid].item(0))\n",
        "  uids.append(uid.item(0))\n",
        "\n",
        "plt.plot(uids, y)\n",
        "plt.plot(uids, x, color='g')\n",
        "len(uids)"
      ],
      "execution_count": 84,
      "outputs": [
        {
          "output_type": "execute_result",
          "data": {
            "text/plain": [
              "592"
            ]
          },
          "metadata": {
            "tags": []
          },
          "execution_count": 84
        },
        {
          "output_type": "display_data",
          "data": {
            "image/png": "[encoded data removed]",
            "text/plain": [
              "<Figure size 432x288 with 1 Axes>"
            ]
          },
          "metadata": {
            "tags": []
          }
        }
      ]
    },
    {
      "cell_type": "code",
      "metadata": {
        "id": "E7pYW3pMszsG",
        "colab_type": "code",
        "outputId": "35eb3a57-3acd-42ba-c470-21652b098da7",
        "colab": {
          "base_uri": "https://localhost:8080/",
          "height": 204
        }
      },
      "source": [
        "positives=ratings_df[ratings_df[\"rating\"]>=4]\n",
        "\n",
        "#join positives with itself on userId to get all pairs of movies watched by a given user.\n",
        "\n",
        "pairs=pd.merge(positives, positives, on=[\"user_id\"])\n",
        "\n",
        "\n",
        "#lets count the frequency of each pair of movies.\n",
        "paircounts=pairs[[\"book_id_x\", \"book_id_y\", \"user_id\"]].groupby([\"book_id_x\", \"book_id_y\"]).count()\n",
        "\n",
        "#sort by the most popular pairs.\n",
        "pairswithcounts = paircounts.reset_index().rename(columns={\"user_id\" : \"count\"}).sort_values(['count'], ascending=False)\n",
        "\n",
        "#display the top most frequent pairs\n",
        "pairswithcounts.head()"
      ],
      "execution_count": 64,
      "outputs": [
        {
          "output_type": "execute_result",
          "data": {
            "text/html": [
              "<div>\n",
              "<style scoped>\n",
              "    .dataframe tbody tr th:only-of-type {\n",
              "        vertical-align: middle;\n",
              "    }\n",
              "\n",
              "    .dataframe tbody tr th {\n",
              "        vertical-align: top;\n",
              "    }\n",
              "\n",
              "    .dataframe thead th {\n",
              "        text-align: right;\n",
              "    }\n",
              "</style>\n",
              "<table border=\"1\" class=\"dataframe\">\n",
              "  <thead>\n",
              "    <tr style=\"text-align: right;\">\n",
              "      <th></th>\n",
              "      <th>book_id_x</th>\n",
              "      <th>book_id_y</th>\n",
              "      <th>count</th>\n",
              "    </tr>\n",
              "  </thead>\n",
              "  <tbody>\n",
              "    <tr>\n",
              "      <th>4728</th>\n",
              "      <td>4</td>\n",
              "      <td>4</td>\n",
              "      <td>528</td>\n",
              "    </tr>\n",
              "    <tr>\n",
              "      <th>0</th>\n",
              "      <td>1</td>\n",
              "      <td>1</td>\n",
              "      <td>502</td>\n",
              "    </tr>\n",
              "    <tr>\n",
              "      <th>36660</th>\n",
              "      <td>25</td>\n",
              "      <td>25</td>\n",
              "      <td>453</td>\n",
              "    </tr>\n",
              "    <tr>\n",
              "      <th>25867</th>\n",
              "      <td>18</td>\n",
              "      <td>18</td>\n",
              "      <td>414</td>\n",
              "    </tr>\n",
              "    <tr>\n",
              "      <th>10882</th>\n",
              "      <td>8</td>\n",
              "      <td>8</td>\n",
              "      <td>408</td>\n",
              "    </tr>\n",
              "  </tbody>\n",
              "</table>\n",
              "</div>"
            ],
            "text/plain": [
              "       book_id_x  book_id_y  count\n",
              "4728           4          4    528\n",
              "0              1          1    502\n",
              "36660         25         25    453\n",
              "25867         18         18    414\n",
              "10882          8          8    408"
            ]
          },
          "metadata": {
            "tags": []
          },
          "execution_count": 64
        }
      ]
    },
    {
      "cell_type": "code",
      "metadata": {
        "id": "CHkXoO8otvNo",
        "colab_type": "code",
        "outputId": "5490d3dc-ab20-480b-ade1-7957e701b3e6",
        "colab": {
          "base_uri": "https://localhost:8080/",
          "height": 966
        }
      },
      "source": [
        "##Solution\n",
        "\n",
        "\n",
        "\n",
        "# pairswithcounts gives is the frequency of (X AND Y). \n",
        "\n",
        "#We therefore need the counts of movies\n",
        "bookCounts = positives.groupby([\"book_id\"]).count()[[\"user_id\"]].reset_index().rename(columns={\"user_id\" : \"ratingCount\"})\n",
        "\n",
        "#lets puts all the information in the sample dataframe.\n",
        "allstats = pairswithcounts.merge(bookCounts, left_on=\"book_id_x\", right_on=\"book_id\").merge(bookCounts, left_on=\"book_id_y\", right_on=\"book_id\")\n",
        "\n",
        "#and drop out some unused columns\n",
        "allstats = allstats[[\"book_id_x\",\t\"book_id_y\",\t\"count\", \"ratingCount_x\", \"ratingCount_y\"]]\n",
        "allstats = allstats.loc[:,~allstats.columns.duplicated()]\n",
        "\n",
        "#to calculate probabilites we need a denominator. I used the number of total ratings\n",
        "num=float(ratings_df.count()[\"rating\"])\n",
        "\n",
        "#we can then perform artihmetic on columns\n",
        "allstats[\"lift\"] = (allstats[\"count\"] / num ) / ( (allstats[\"ratingCount_x\"] / num) * (allstats[\"ratingCount_y\"] / num))\n",
        "\n",
        "#and finally, merge in the titles\n",
        "withtitles = allstats.merge(books_df, left_on=[\"book_id_x\"], right_on=\"book_id\").merge(books_df, left_on=[\"book_id_y\"], right_on=\"book_id\")\n",
        "\n",
        "withtitles.sort_values(['lift'], ascending=False)\n",
        "\n",
        "#note that some of the movies with highlest lift have very low frequencies. We would apply a minium support threshold\n"
      ],
      "execution_count": 65,
      "outputs": [
        {
          "output_type": "execute_result",
          "data": {
            "text/html": [
              "<div>\n",
              "<style scoped>\n",
              "    .dataframe tbody tr th:only-of-type {\n",
              "        vertical-align: middle;\n",
              "    }\n",
              "\n",
              "    .dataframe tbody tr th {\n",
              "        vertical-align: top;\n",
              "    }\n",
              "\n",
              "    .dataframe thead th {\n",
              "        text-align: right;\n",
              "    }\n",
              "</style>\n",
              "<table border=\"1\" class=\"dataframe\">\n",
              "  <thead>\n",
              "    <tr style=\"text-align: right;\">\n",
              "      <th></th>\n",
              "      <th>book_id_x</th>\n",
              "      <th>book_id_y</th>\n",
              "      <th>count</th>\n",
              "      <th>ratingCount_x</th>\n",
              "      <th>ratingCount_y</th>\n",
              "      <th>lift</th>\n",
              "      <th>Unnamed: 0_x</th>\n",
              "      <th>book_id_x</th>\n",
              "      <th>goodreads_book_id_x</th>\n",
              "      <th>best_book_id_x</th>\n",
              "      <th>work_id_x</th>\n",
              "      <th>books_count_x</th>\n",
              "      <th>isbn_x</th>\n",
              "      <th>isbn13_x</th>\n",
              "      <th>authors_x</th>\n",
              "      <th>original_publication_year_x</th>\n",
              "      <th>original_title_x</th>\n",
              "      <th>title_x</th>\n",
              "      <th>language_code_x</th>\n",
              "      <th>average_rating_x</th>\n",
              "      <th>ratings_count_x</th>\n",
              "      <th>work_ratings_count_x</th>\n",
              "      <th>work_text_reviews_count_x</th>\n",
              "      <th>ratings_1_x</th>\n",
              "      <th>ratings_2_x</th>\n",
              "      <th>ratings_3_x</th>\n",
              "      <th>ratings_4_x</th>\n",
              "      <th>ratings_5_x</th>\n",
              "      <th>image_url_x</th>\n",
              "      <th>small_image_url_x</th>\n",
              "      <th>Unnamed: 0_y</th>\n",
              "      <th>book_id_y</th>\n",
              "      <th>goodreads_book_id_y</th>\n",
              "      <th>best_book_id_y</th>\n",
              "      <th>work_id_y</th>\n",
              "      <th>books_count_y</th>\n",
              "      <th>isbn_y</th>\n",
              "      <th>isbn13_y</th>\n",
              "      <th>authors_y</th>\n",
              "      <th>original_publication_year_y</th>\n",
              "      <th>original_title_y</th>\n",
              "      <th>title_y</th>\n",
              "      <th>language_code_y</th>\n",
              "      <th>average_rating_y</th>\n",
              "      <th>ratings_count_y</th>\n",
              "      <th>work_ratings_count_y</th>\n",
              "      <th>work_text_reviews_count_y</th>\n",
              "      <th>ratings_1_y</th>\n",
              "      <th>ratings_2_y</th>\n",
              "      <th>ratings_3_y</th>\n",
              "      <th>ratings_4_y</th>\n",
              "      <th>ratings_5_y</th>\n",
              "      <th>image_url_y</th>\n",
              "      <th>small_image_url_y</th>\n",
              "    </tr>\n",
              "  </thead>\n",
              "  <tbody>\n",
              "    <tr>\n",
              "      <th>1078827</th>\n",
              "      <td>1840</td>\n",
              "      <td>1840</td>\n",
              "      <td>1</td>\n",
              "      <td>1</td>\n",
              "      <td>1</td>\n",
              "      <td>124762.000000</td>\n",
              "      <td>1839</td>\n",
              "      <td>1840</td>\n",
              "      <td>84136</td>\n",
              "      <td>84136</td>\n",
              "      <td>2384</td>\n",
              "      <td>49</td>\n",
              "      <td>312979975</td>\n",
              "      <td>9.780313e+12</td>\n",
              "      <td>Sherrilyn Kenyon</td>\n",
              "      <td>2002.0</td>\n",
              "      <td>Fantasy Lover</td>\n",
              "      <td>Fantasy Lover (Dark-Hunterverse #1)</td>\n",
              "      <td>eng</td>\n",
              "      <td>4.17</td>\n",
              "      <td>70274</td>\n",
              "      <td>74975</td>\n",
              "      <td>3081</td>\n",
              "      <td>1409</td>\n",
              "      <td>3288</td>\n",
              "      <td>12339</td>\n",
              "      <td>22030</td>\n",
              "      <td>35909</td>\n",
              "      <td>https://images.gr-assets.com/books/1348332807m...</td>\n",
              "      <td>https://images.gr-assets.com/books/1348332807s...</td>\n",
              "      <td>1839</td>\n",
              "      <td>1840</td>\n",
              "      <td>84136</td>\n",
              "      <td>84136</td>\n",
              "      <td>2384</td>\n",
              "      <td>49</td>\n",
              "      <td>312979975</td>\n",
              "      <td>9.780313e+12</td>\n",
              "      <td>Sherrilyn Kenyon</td>\n",
              "      <td>2002.0</td>\n",
              "      <td>Fantasy Lover</td>\n",
              "      <td>Fantasy Lover (Dark-Hunterverse #1)</td>\n",
              "      <td>eng</td>\n",
              "      <td>4.17</td>\n",
              "      <td>70274</td>\n",
              "      <td>74975</td>\n",
              "      <td>3081</td>\n",
              "      <td>1409</td>\n",
              "      <td>3288</td>\n",
              "      <td>12339</td>\n",
              "      <td>22030</td>\n",
              "      <td>35909</td>\n",
              "      <td>https://images.gr-assets.com/books/1348332807m...</td>\n",
              "      <td>https://images.gr-assets.com/books/1348332807s...</td>\n",
              "    </tr>\n",
              "    <tr>\n",
              "      <th>1078733</th>\n",
              "      <td>1227</td>\n",
              "      <td>1227</td>\n",
              "      <td>1</td>\n",
              "      <td>1</td>\n",
              "      <td>1</td>\n",
              "      <td>124762.000000</td>\n",
              "      <td>1226</td>\n",
              "      <td>1227</td>\n",
              "      <td>5391115</td>\n",
              "      <td>5391115</td>\n",
              "      <td>4115339</td>\n",
              "      <td>44</td>\n",
              "      <td>61662763</td>\n",
              "      <td>9.780062e+12</td>\n",
              "      <td>Kelley Armstrong</td>\n",
              "      <td>2009.0</td>\n",
              "      <td>The Awakening</td>\n",
              "      <td>The Awakening (Darkest Powers, #2)</td>\n",
              "      <td>eng</td>\n",
              "      <td>4.16</td>\n",
              "      <td>95026</td>\n",
              "      <td>98240</td>\n",
              "      <td>3118</td>\n",
              "      <td>1151</td>\n",
              "      <td>3775</td>\n",
              "      <td>17773</td>\n",
              "      <td>31477</td>\n",
              "      <td>44064</td>\n",
              "      <td>https://images.gr-assets.com/books/1478986806m...</td>\n",
              "      <td>https://images.gr-assets.com/books/1478986806s...</td>\n",
              "      <td>1226</td>\n",
              "      <td>1227</td>\n",
              "      <td>5391115</td>\n",
              "      <td>5391115</td>\n",
              "      <td>4115339</td>\n",
              "      <td>44</td>\n",
              "      <td>61662763</td>\n",
              "      <td>9.780062e+12</td>\n",
              "      <td>Kelley Armstrong</td>\n",
              "      <td>2009.0</td>\n",
              "      <td>The Awakening</td>\n",
              "      <td>The Awakening (Darkest Powers, #2)</td>\n",
              "      <td>eng</td>\n",
              "      <td>4.16</td>\n",
              "      <td>95026</td>\n",
              "      <td>98240</td>\n",
              "      <td>3118</td>\n",
              "      <td>1151</td>\n",
              "      <td>3775</td>\n",
              "      <td>17773</td>\n",
              "      <td>31477</td>\n",
              "      <td>44064</td>\n",
              "      <td>https://images.gr-assets.com/books/1478986806m...</td>\n",
              "      <td>https://images.gr-assets.com/books/1478986806s...</td>\n",
              "    </tr>\n",
              "    <tr>\n",
              "      <th>1078094</th>\n",
              "      <td>1523</td>\n",
              "      <td>1523</td>\n",
              "      <td>1</td>\n",
              "      <td>1</td>\n",
              "      <td>1</td>\n",
              "      <td>124762.000000</td>\n",
              "      <td>1522</td>\n",
              "      <td>1523</td>\n",
              "      <td>8525590</td>\n",
              "      <td>8525590</td>\n",
              "      <td>13392566</td>\n",
              "      <td>44</td>\n",
              "      <td>1442409053</td>\n",
              "      <td>9.781442e+12</td>\n",
              "      <td>Lauren DeStefano</td>\n",
              "      <td>2011.0</td>\n",
              "      <td>Wither</td>\n",
              "      <td>Wither (The Chemical Garden, #1)</td>\n",
              "      <td>eng</td>\n",
              "      <td>3.81</td>\n",
              "      <td>84776</td>\n",
              "      <td>88657</td>\n",
              "      <td>7886</td>\n",
              "      <td>3105</td>\n",
              "      <td>7449</td>\n",
              "      <td>20924</td>\n",
              "      <td>28676</td>\n",
              "      <td>28503</td>\n",
              "      <td>https://images.gr-assets.com/books/1341532430m...</td>\n",
              "      <td>https://images.gr-assets.com/books/1341532430s...</td>\n",
              "      <td>1522</td>\n",
              "      <td>1523</td>\n",
              "      <td>8525590</td>\n",
              "      <td>8525590</td>\n",
              "      <td>13392566</td>\n",
              "      <td>44</td>\n",
              "      <td>1442409053</td>\n",
              "      <td>9.781442e+12</td>\n",
              "      <td>Lauren DeStefano</td>\n",
              "      <td>2011.0</td>\n",
              "      <td>Wither</td>\n",
              "      <td>Wither (The Chemical Garden, #1)</td>\n",
              "      <td>eng</td>\n",
              "      <td>3.81</td>\n",
              "      <td>84776</td>\n",
              "      <td>88657</td>\n",
              "      <td>7886</td>\n",
              "      <td>3105</td>\n",
              "      <td>7449</td>\n",
              "      <td>20924</td>\n",
              "      <td>28676</td>\n",
              "      <td>28503</td>\n",
              "      <td>https://images.gr-assets.com/books/1341532430m...</td>\n",
              "      <td>https://images.gr-assets.com/books/1341532430s...</td>\n",
              "    </tr>\n",
              "    <tr>\n",
              "      <th>1078792</th>\n",
              "      <td>418</td>\n",
              "      <td>418</td>\n",
              "      <td>1</td>\n",
              "      <td>1</td>\n",
              "      <td>1</td>\n",
              "      <td>124762.000000</td>\n",
              "      <td>417</td>\n",
              "      <td>418</td>\n",
              "      <td>6479259</td>\n",
              "      <td>6479259</td>\n",
              "      <td>6670482</td>\n",
              "      <td>71</td>\n",
              "      <td>1595142509</td>\n",
              "      <td>9.781595e+12</td>\n",
              "      <td>Richelle Mead</td>\n",
              "      <td>2010.0</td>\n",
              "      <td>Spirit Bound</td>\n",
              "      <td>Spirit Bound (Vampire Academy, #5)</td>\n",
              "      <td>eng</td>\n",
              "      <td>4.37</td>\n",
              "      <td>224247</td>\n",
              "      <td>235076</td>\n",
              "      <td>8030</td>\n",
              "      <td>2755</td>\n",
              "      <td>5907</td>\n",
              "      <td>26981</td>\n",
              "      <td>66097</td>\n",
              "      <td>133336</td>\n",
              "      <td>https://images.gr-assets.com/books/1291168967m...</td>\n",
              "      <td>https://images.gr-assets.com/books/1291168967s...</td>\n",
              "      <td>417</td>\n",
              "      <td>418</td>\n",
              "      <td>6479259</td>\n",
              "      <td>6479259</td>\n",
              "      <td>6670482</td>\n",
              "      <td>71</td>\n",
              "      <td>1595142509</td>\n",
              "      <td>9.781595e+12</td>\n",
              "      <td>Richelle Mead</td>\n",
              "      <td>2010.0</td>\n",
              "      <td>Spirit Bound</td>\n",
              "      <td>Spirit Bound (Vampire Academy, #5)</td>\n",
              "      <td>eng</td>\n",
              "      <td>4.37</td>\n",
              "      <td>224247</td>\n",
              "      <td>235076</td>\n",
              "      <td>8030</td>\n",
              "      <td>2755</td>\n",
              "      <td>5907</td>\n",
              "      <td>26981</td>\n",
              "      <td>66097</td>\n",
              "      <td>133336</td>\n",
              "      <td>https://images.gr-assets.com/books/1291168967m...</td>\n",
              "      <td>https://images.gr-assets.com/books/1291168967s...</td>\n",
              "    </tr>\n",
              "    <tr>\n",
              "      <th>1078791</th>\n",
              "      <td>1416</td>\n",
              "      <td>418</td>\n",
              "      <td>1</td>\n",
              "      <td>1</td>\n",
              "      <td>1</td>\n",
              "      <td>124762.000000</td>\n",
              "      <td>1415</td>\n",
              "      <td>1416</td>\n",
              "      <td>8709523</td>\n",
              "      <td>8709523</td>\n",
              "      <td>13582370</td>\n",
              "      <td>35</td>\n",
              "      <td>1595143181</td>\n",
              "      <td>9.781595e+12</td>\n",
              "      <td>Richelle Mead</td>\n",
              "      <td>2012.0</td>\n",
              "      <td>The Golden Lily</td>\n",
              "      <td>The Golden Lily (Bloodlines, #2)</td>\n",
              "      <td>en-US</td>\n",
              "      <td>4.36</td>\n",
              "      <td>86929</td>\n",
              "      <td>91787</td>\n",
              "      <td>6026</td>\n",
              "      <td>688</td>\n",
              "      <td>1779</td>\n",
              "      <td>10687</td>\n",
              "      <td>29356</td>\n",
              "      <td>49277</td>\n",
              "      <td>https://images.gr-assets.com/books/1360599818m...</td>\n",
              "      <td>https://images.gr-assets.com/books/1360599818s...</td>\n",
              "      <td>417</td>\n",
              "      <td>418</td>\n",
              "      <td>6479259</td>\n",
              "      <td>6479259</td>\n",
              "      <td>6670482</td>\n",
              "      <td>71</td>\n",
              "      <td>1595142509</td>\n",
              "      <td>9.781595e+12</td>\n",
              "      <td>Richelle Mead</td>\n",
              "      <td>2010.0</td>\n",
              "      <td>Spirit Bound</td>\n",
              "      <td>Spirit Bound (Vampire Academy, #5)</td>\n",
              "      <td>eng</td>\n",
              "      <td>4.37</td>\n",
              "      <td>224247</td>\n",
              "      <td>235076</td>\n",
              "      <td>8030</td>\n",
              "      <td>2755</td>\n",
              "      <td>5907</td>\n",
              "      <td>26981</td>\n",
              "      <td>66097</td>\n",
              "      <td>133336</td>\n",
              "      <td>https://images.gr-assets.com/books/1291168967m...</td>\n",
              "      <td>https://images.gr-assets.com/books/1291168967s...</td>\n",
              "    </tr>\n",
              "    <tr>\n",
              "      <th>...</th>\n",
              "      <td>...</td>\n",
              "      <td>...</td>\n",
              "      <td>...</td>\n",
              "      <td>...</td>\n",
              "      <td>...</td>\n",
              "      <td>...</td>\n",
              "      <td>...</td>\n",
              "      <td>...</td>\n",
              "      <td>...</td>\n",
              "      <td>...</td>\n",
              "      <td>...</td>\n",
              "      <td>...</td>\n",
              "      <td>...</td>\n",
              "      <td>...</td>\n",
              "      <td>...</td>\n",
              "      <td>...</td>\n",
              "      <td>...</td>\n",
              "      <td>...</td>\n",
              "      <td>...</td>\n",
              "      <td>...</td>\n",
              "      <td>...</td>\n",
              "      <td>...</td>\n",
              "      <td>...</td>\n",
              "      <td>...</td>\n",
              "      <td>...</td>\n",
              "      <td>...</td>\n",
              "      <td>...</td>\n",
              "      <td>...</td>\n",
              "      <td>...</td>\n",
              "      <td>...</td>\n",
              "      <td>...</td>\n",
              "      <td>...</td>\n",
              "      <td>...</td>\n",
              "      <td>...</td>\n",
              "      <td>...</td>\n",
              "      <td>...</td>\n",
              "      <td>...</td>\n",
              "      <td>...</td>\n",
              "      <td>...</td>\n",
              "      <td>...</td>\n",
              "      <td>...</td>\n",
              "      <td>...</td>\n",
              "      <td>...</td>\n",
              "      <td>...</td>\n",
              "      <td>...</td>\n",
              "      <td>...</td>\n",
              "      <td>...</td>\n",
              "      <td>...</td>\n",
              "      <td>...</td>\n",
              "      <td>...</td>\n",
              "      <td>...</td>\n",
              "      <td>...</td>\n",
              "      <td>...</td>\n",
              "      <td>...</td>\n",
              "    </tr>\n",
              "    <tr>\n",
              "      <th>243430</th>\n",
              "      <td>248</td>\n",
              "      <td>61</td>\n",
              "      <td>1</td>\n",
              "      <td>150</td>\n",
              "      <td>176</td>\n",
              "      <td>4.725833</td>\n",
              "      <td>247</td>\n",
              "      <td>248</td>\n",
              "      <td>1622</td>\n",
              "      <td>1622</td>\n",
              "      <td>894834</td>\n",
              "      <td>1379</td>\n",
              "      <td>743477545</td>\n",
              "      <td>9.780743e+12</td>\n",
              "      <td>William Shakespeare, Barbara A. Mowat, Paul We...</td>\n",
              "      <td>1595.0</td>\n",
              "      <td>A Midsummer Night's Dream</td>\n",
              "      <td>A Midsummer Night's Dream</td>\n",
              "      <td>eng</td>\n",
              "      <td>3.94</td>\n",
              "      <td>334241</td>\n",
              "      <td>361510</td>\n",
              "      <td>5724</td>\n",
              "      <td>5598</td>\n",
              "      <td>20498</td>\n",
              "      <td>84388</td>\n",
              "      <td>130051</td>\n",
              "      <td>120975</td>\n",
              "      <td>https://images.gr-assets.com/books/1327874534m...</td>\n",
              "      <td>https://images.gr-assets.com/books/1327874534s...</td>\n",
              "      <td>60</td>\n",
              "      <td>61</td>\n",
              "      <td>22557272</td>\n",
              "      <td>22557272</td>\n",
              "      <td>41107568</td>\n",
              "      <td>14</td>\n",
              "      <td>1594633665</td>\n",
              "      <td>9.781595e+12</td>\n",
              "      <td>Paula Hawkins</td>\n",
              "      <td>2015.0</td>\n",
              "      <td>The Girl on the Train</td>\n",
              "      <td>The Girl on the Train</td>\n",
              "      <td>eng</td>\n",
              "      <td>3.88</td>\n",
              "      <td>1008778</td>\n",
              "      <td>1226485</td>\n",
              "      <td>93600</td>\n",
              "      <td>27773</td>\n",
              "      <td>73897</td>\n",
              "      <td>273817</td>\n",
              "      <td>488447</td>\n",
              "      <td>362551</td>\n",
              "      <td>https://images.gr-assets.com/books/1490903702m...</td>\n",
              "      <td>https://images.gr-assets.com/books/1490903702s...</td>\n",
              "    </tr>\n",
              "    <tr>\n",
              "      <th>282728</th>\n",
              "      <td>19</td>\n",
              "      <td>112</td>\n",
              "      <td>1</td>\n",
              "      <td>220</td>\n",
              "      <td>135</td>\n",
              "      <td>4.200741</td>\n",
              "      <td>18</td>\n",
              "      <td>19</td>\n",
              "      <td>34</td>\n",
              "      <td>34</td>\n",
              "      <td>3204327</td>\n",
              "      <td>566</td>\n",
              "      <td>618346252</td>\n",
              "      <td>9.780618e+12</td>\n",
              "      <td>J.R.R. Tolkien</td>\n",
              "      <td>1954.0</td>\n",
              "      <td>The Fellowship of the Ring</td>\n",
              "      <td>The Fellowship of the Ring (The Lord of the Ri...</td>\n",
              "      <td>eng</td>\n",
              "      <td>4.34</td>\n",
              "      <td>1766803</td>\n",
              "      <td>1832541</td>\n",
              "      <td>15333</td>\n",
              "      <td>38031</td>\n",
              "      <td>55862</td>\n",
              "      <td>202332</td>\n",
              "      <td>493922</td>\n",
              "      <td>1042394</td>\n",
              "      <td>https://images.gr-assets.com/books/1298411339m...</td>\n",
              "      <td>https://images.gr-assets.com/books/1298411339s...</td>\n",
              "      <td>111</td>\n",
              "      <td>112</td>\n",
              "      <td>15507958</td>\n",
              "      <td>15507958</td>\n",
              "      <td>17763198</td>\n",
              "      <td>168</td>\n",
              "      <td>670026603</td>\n",
              "      <td>9.780670e+12</td>\n",
              "      <td>Jojo Moyes</td>\n",
              "      <td>2012.0</td>\n",
              "      <td>Me Before You</td>\n",
              "      <td>Me Before You (Me Before You, #1)</td>\n",
              "      <td>eng</td>\n",
              "      <td>4.27</td>\n",
              "      <td>587647</td>\n",
              "      <td>741133</td>\n",
              "      <td>71412</td>\n",
              "      <td>10346</td>\n",
              "      <td>21880</td>\n",
              "      <td>91517</td>\n",
              "      <td>249474</td>\n",
              "      <td>367916</td>\n",
              "      <td>https://images.gr-assets.com/books/1357108762m...</td>\n",
              "      <td>https://images.gr-assets.com/books/1357108762s...</td>\n",
              "    </tr>\n",
              "    <tr>\n",
              "      <th>84399</th>\n",
              "      <td>112</td>\n",
              "      <td>19</td>\n",
              "      <td>1</td>\n",
              "      <td>135</td>\n",
              "      <td>220</td>\n",
              "      <td>4.200741</td>\n",
              "      <td>111</td>\n",
              "      <td>112</td>\n",
              "      <td>15507958</td>\n",
              "      <td>15507958</td>\n",
              "      <td>17763198</td>\n",
              "      <td>168</td>\n",
              "      <td>670026603</td>\n",
              "      <td>9.780670e+12</td>\n",
              "      <td>Jojo Moyes</td>\n",
              "      <td>2012.0</td>\n",
              "      <td>Me Before You</td>\n",
              "      <td>Me Before You (Me Before You, #1)</td>\n",
              "      <td>eng</td>\n",
              "      <td>4.27</td>\n",
              "      <td>587647</td>\n",
              "      <td>741133</td>\n",
              "      <td>71412</td>\n",
              "      <td>10346</td>\n",
              "      <td>21880</td>\n",
              "      <td>91517</td>\n",
              "      <td>249474</td>\n",
              "      <td>367916</td>\n",
              "      <td>https://images.gr-assets.com/books/1357108762m...</td>\n",
              "      <td>https://images.gr-assets.com/books/1357108762s...</td>\n",
              "      <td>18</td>\n",
              "      <td>19</td>\n",
              "      <td>34</td>\n",
              "      <td>34</td>\n",
              "      <td>3204327</td>\n",
              "      <td>566</td>\n",
              "      <td>618346252</td>\n",
              "      <td>9.780618e+12</td>\n",
              "      <td>J.R.R. Tolkien</td>\n",
              "      <td>1954.0</td>\n",
              "      <td>The Fellowship of the Ring</td>\n",
              "      <td>The Fellowship of the Ring (The Lord of the Ri...</td>\n",
              "      <td>eng</td>\n",
              "      <td>4.34</td>\n",
              "      <td>1766803</td>\n",
              "      <td>1832541</td>\n",
              "      <td>15333</td>\n",
              "      <td>38031</td>\n",
              "      <td>55862</td>\n",
              "      <td>202332</td>\n",
              "      <td>493922</td>\n",
              "      <td>1042394</td>\n",
              "      <td>https://images.gr-assets.com/books/1298411339m...</td>\n",
              "      <td>https://images.gr-assets.com/books/1298411339s...</td>\n",
              "    </tr>\n",
              "    <tr>\n",
              "      <th>157342</th>\n",
              "      <td>297</td>\n",
              "      <td>6</td>\n",
              "      <td>1</td>\n",
              "      <td>148</td>\n",
              "      <td>236</td>\n",
              "      <td>3.571977</td>\n",
              "      <td>296</td>\n",
              "      <td>297</td>\n",
              "      <td>135479</td>\n",
              "      <td>135479</td>\n",
              "      <td>1621115</td>\n",
              "      <td>155</td>\n",
              "      <td>140285601</td>\n",
              "      <td>9.780140e+12</td>\n",
              "      <td>Kurt Vonnegut Jr.</td>\n",
              "      <td>1963.0</td>\n",
              "      <td>Cat's Cradle</td>\n",
              "      <td>Cat's Cradle</td>\n",
              "      <td>eng</td>\n",
              "      <td>4.18</td>\n",
              "      <td>238940</td>\n",
              "      <td>274153</td>\n",
              "      <td>8050</td>\n",
              "      <td>2701</td>\n",
              "      <td>8491</td>\n",
              "      <td>43680</td>\n",
              "      <td>102441</td>\n",
              "      <td>116840</td>\n",
              "      <td>https://images.gr-assets.com/books/1327867150m...</td>\n",
              "      <td>https://images.gr-assets.com/books/1327867150s...</td>\n",
              "      <td>5</td>\n",
              "      <td>6</td>\n",
              "      <td>11870085</td>\n",
              "      <td>11870085</td>\n",
              "      <td>16827462</td>\n",
              "      <td>226</td>\n",
              "      <td>525478817</td>\n",
              "      <td>9.780525e+12</td>\n",
              "      <td>John Green</td>\n",
              "      <td>2012.0</td>\n",
              "      <td>The Fault in Our Stars</td>\n",
              "      <td>The Fault in Our Stars</td>\n",
              "      <td>eng</td>\n",
              "      <td>4.26</td>\n",
              "      <td>2346404</td>\n",
              "      <td>2478609</td>\n",
              "      <td>140739</td>\n",
              "      <td>47994</td>\n",
              "      <td>92723</td>\n",
              "      <td>327550</td>\n",
              "      <td>698471</td>\n",
              "      <td>1311871</td>\n",
              "      <td>https://images.gr-assets.com/books/1360206420m...</td>\n",
              "      <td>https://images.gr-assets.com/books/1360206420s...</td>\n",
              "    </tr>\n",
              "    <tr>\n",
              "      <th>115357</th>\n",
              "      <td>6</td>\n",
              "      <td>297</td>\n",
              "      <td>1</td>\n",
              "      <td>236</td>\n",
              "      <td>148</td>\n",
              "      <td>3.571977</td>\n",
              "      <td>5</td>\n",
              "      <td>6</td>\n",
              "      <td>11870085</td>\n",
              "      <td>11870085</td>\n",
              "      <td>16827462</td>\n",
              "      <td>226</td>\n",
              "      <td>525478817</td>\n",
              "      <td>9.780525e+12</td>\n",
              "      <td>John Green</td>\n",
              "      <td>2012.0</td>\n",
              "      <td>The Fault in Our Stars</td>\n",
              "      <td>The Fault in Our Stars</td>\n",
              "      <td>eng</td>\n",
              "      <td>4.26</td>\n",
              "      <td>2346404</td>\n",
              "      <td>2478609</td>\n",
              "      <td>140739</td>\n",
              "      <td>47994</td>\n",
              "      <td>92723</td>\n",
              "      <td>327550</td>\n",
              "      <td>698471</td>\n",
              "      <td>1311871</td>\n",
              "      <td>https://images.gr-assets.com/books/1360206420m...</td>\n",
              "      <td>https://images.gr-assets.com/books/1360206420s...</td>\n",
              "      <td>296</td>\n",
              "      <td>297</td>\n",
              "      <td>135479</td>\n",
              "      <td>135479</td>\n",
              "      <td>1621115</td>\n",
              "      <td>155</td>\n",
              "      <td>140285601</td>\n",
              "      <td>9.780140e+12</td>\n",
              "      <td>Kurt Vonnegut Jr.</td>\n",
              "      <td>1963.0</td>\n",
              "      <td>Cat's Cradle</td>\n",
              "      <td>Cat's Cradle</td>\n",
              "      <td>eng</td>\n",
              "      <td>4.18</td>\n",
              "      <td>238940</td>\n",
              "      <td>274153</td>\n",
              "      <td>8050</td>\n",
              "      <td>2701</td>\n",
              "      <td>8491</td>\n",
              "      <td>43680</td>\n",
              "      <td>102441</td>\n",
              "      <td>116840</td>\n",
              "      <td>https://images.gr-assets.com/books/1327867150m...</td>\n",
              "      <td>https://images.gr-assets.com/books/1327867150s...</td>\n",
              "    </tr>\n",
              "  </tbody>\n",
              "</table>\n",
              "<p>1078828 rows × 54 columns</p>\n",
              "</div>"
            ],
            "text/plain": [
              "         book_id_x  ...                                  small_image_url_y\n",
              "1078827       1840  ...  https://images.gr-assets.com/books/1348332807s...\n",
              "1078733       1227  ...  https://images.gr-assets.com/books/1478986806s...\n",
              "1078094       1523  ...  https://images.gr-assets.com/books/1341532430s...\n",
              "1078792        418  ...  https://images.gr-assets.com/books/1291168967s...\n",
              "1078791       1416  ...  https://images.gr-assets.com/books/1291168967s...\n",
              "...            ...  ...                                                ...\n",
              "243430         248  ...  https://images.gr-assets.com/books/1490903702s...\n",
              "282728          19  ...  https://images.gr-assets.com/books/1357108762s...\n",
              "84399          112  ...  https://images.gr-assets.com/books/1298411339s...\n",
              "157342         297  ...  https://images.gr-assets.com/books/1360206420s...\n",
              "115357           6  ...  https://images.gr-assets.com/books/1327867150s...\n",
              "\n",
              "[1078828 rows x 54 columns]"
            ]
          },
          "metadata": {
            "tags": []
          },
          "execution_count": 65
        }
      ]
    },
    {
      "cell_type": "code",
      "metadata": {
        "id": "wM_VXTmciniO",
        "colab_type": "code",
        "colab": {
          "base_uri": "https://localhost:8080/",
          "height": 34
        },
        "outputId": "f913cbb0-6667-4324-b605-037f7b3d38f1"
      },
      "source": [
        "class HRS_Model:\n",
        "  \n",
        "  def __init__(self, numitems):\n",
        "    self.predictions=np.zeros(numitems)\n",
        "  \n",
        "  #uid is the user we are requesting recommendations for;\n",
        "  #returns an array of scores, one for each item\n",
        "  def predict(self, uid):\n",
        "    w1 = 0.05\n",
        "    w2 = 0.075\n",
        "    w3 = 0.03\n",
        "\n",
        "    return ((averageRating(averageRating).predict(uid)*w1)+(imodel_best1.predict(uid)*w2)+(imodel_best2.predict(uid)*w3))\n",
        "  \n",
        "\n",
        "print(mrr_score(HRS_Model(num_items), validation).mean())\n",
        "#as expected, a recommendation model that gives 0 scores for all items obtains a MRR score of 0\n"
      ],
      "execution_count": 173,
      "outputs": [
        {
          "output_type": "stream",
          "text": [
            "0.22613985564210679\n"
          ],
          "name": "stdout"
        }
      ]
    },
    {
      "cell_type": "code",
      "metadata": {
        "id": "Tk0TeB-3k8lp",
        "colab_type": "code",
        "colab": {
          "base_uri": "https://localhost:8080/",
          "height": 34
        },
        "outputId": "526d3858-176d-4b29-9324-1318b49b5fe2"
      },
      "source": [
        "class HRS_Model:\n",
        "  \n",
        "  def __init__(self, numitems):\n",
        "    self.predictions=np.zeros(numitems)\n",
        "  \n",
        "  #uid is the user we are requesting recommendations for;\n",
        "  #returns an array of scores, one for each item\n",
        "  def predict(self, uid):\n",
        "    w1 = 0.1\n",
        "    w2 = 0.2\n",
        "    w3 = 0.3 \n",
        "    return ((averageRating(averageRating).predict(uid)*w1)+(imodel_best1.predict(uid)*w2)+(imodel_best2.predict(uid)*w3))\n",
        "  \n",
        "\n",
        "print(mrr_score(HRS_Model(num_items), validation).mean())\n",
        "#as expected, a recommendation model that gives 0 scores for all items obtains a MRR score of 0"
      ],
      "execution_count": 170,
      "outputs": [
        {
          "output_type": "stream",
          "text": [
            "0.21540631426824525\n"
          ],
          "name": "stdout"
        }
      ]
    },
    {
      "cell_type": "code",
      "metadata": {
        "id": "3dWXnyB7k9K5",
        "colab_type": "code",
        "colab": {
          "base_uri": "https://localhost:8080/",
          "height": 34
        },
        "outputId": "23103ac0-b524-420d-e0cd-02db880b03dc"
      },
      "source": [
        "class HRS_Model:\n",
        "  \n",
        "  def __init__(self, numitems):\n",
        "    self.predictions=np.zeros(numitems)\n",
        "  \n",
        "  #uid is the user we are requesting recommendations for;\n",
        "  #returns an array of scores, one for each item\n",
        "  def predict(self, uid):\n",
        "    w1 =0.3\n",
        "    w2 = 0.4\n",
        "    w3 = 0.5 \n",
        "    return ((averageRating(averageRating).predict(uid)*w1)+(imodel_best1.predict(uid)*w2)+(imodel_best2.predict(uid)*w3))\n",
        "  \n",
        "\n",
        "print(mrr_score(HRS_Model(num_items), validation).mean())\n",
        "#as expected, a recommendation model that gives 0 scores for all items obtains a MRR score of 0"
      ],
      "execution_count": 174,
      "outputs": [
        {
          "output_type": "stream",
          "text": [
            "0.21687708933831998\n"
          ],
          "name": "stdout"
        }
      ]
    },
    {
      "cell_type": "code",
      "metadata": {
        "id": "m-vgbvLmno8G",
        "colab_type": "code",
        "colab": {
          "base_uri": "https://localhost:8080/",
          "height": 34
        },
        "outputId": "932c895e-1241-4615-ed85-7c65f128d140"
      },
      "source": [
        "class HRS_Model:\n",
        "  \n",
        "  def __init__(self, numitems):\n",
        "    self.predictions=np.zeros(numitems)\n",
        "  \n",
        "  #uid is the user we are requesting recommendations for;\n",
        "  #returns an array of scores, one for each item\n",
        "  def predict(self, uid):\n",
        "    w1 = 0.05\n",
        "    w2 = 0.075\n",
        "    w3 = 0.03\n",
        "\n",
        "    return ((averageRating(averageRating).predict(uid)*w1)+(imodel_best1.predict(uid)*w2)+(imodel_best2.predict(uid)*w3))\n",
        "  \n",
        "\n",
        "print(mrr_score(HRS_Model(num_items), test_dataset).mean())\n",
        "#as expected, a recommendation model that gives 0 scores for all items obtains a MRR score of 0\n"
      ],
      "execution_count": 176,
      "outputs": [
        {
          "output_type": "stream",
          "text": [
            "0.23632649658162413\n"
          ],
          "name": "stdout"
        }
      ]
    }
  ]
}