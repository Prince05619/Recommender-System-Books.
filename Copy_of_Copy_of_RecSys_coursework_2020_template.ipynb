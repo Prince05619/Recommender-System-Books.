{
  "nbformat": 4,
  "nbformat_minor": 0,
  "metadata": {
    "colab": {
      "name": "Copy of Copy of RecSys coursework 2020 template.ipynb",
      "provenance": [],
      "collapsed_sections": [],
      "machine_shape": "hm"
    },
    "kernelspec": {
      "name": "python3",
      "display_name": "Python 3"
    }
  },
  "cells": [
    {
      "cell_type": "markdown",
      "metadata": {
        "id": "THQFNe3zdt1f",
        "colab_type": "text"
      },
      "source": [
        "# Assessed Coursework Template Notebook\n",
        "\n",
        "This is the template notebook for the RecSys(H) 2020 coursework. It deals with data preparation and evaluation only.\n",
        "\n",
        "Please note:\n",
        " - use H1 text headings for grouping together blocks of cells. You can then hide these while working on other blocks\n",
        " - leave the cell output visible when you submit the notebook\n",
        "\n"
      ]
    },
    {
      "cell_type": "markdown",
      "metadata": {
        "id": "Ww--_kl9-ndn",
        "colab_type": "text"
      },
      "source": [
        "## Setup block\n",
        "\n",
        "Setup the data files, Python etc."
      ]
    },
    {
      "cell_type": "code",
      "metadata": {
        "id": "iFgYpbhh0tkX",
        "colab_type": "code",
        "outputId": "82c61046-6fa1-43d8-8122-b2565d0c98ae",
        "colab": {
          "base_uri": "https://localhost:8080/",
          "height": 221
        }
      },
      "source": [
        "!rm -rf ratings* books* to_read* test*\n",
        "\n",
        "!curl -o ratings.csv \"http://www.dcs.gla.ac.uk/~craigm/recsysH/coursework/final-ratings.csv\" \n",
        "!curl -o books.csv \"http://www.dcs.gla.ac.uk/~craigm/recsysH/coursework/final-books.csv\"\n",
        "!curl -o to_read.csv \"http://www.dcs.gla.ac.uk/~craigm/recsysH/coursework/final-to_read.csv\"\n",
        "!curl -o test.csv \"http://www.dcs.gla.ac.uk/~craigm/recsysH/coursework/final-test.csv\""
      ],
      "execution_count": 0,
      "outputs": [
        {
          "output_type": "stream",
          "text": [
            "  % Total    % Received % Xferd  Average Speed   Time    Time     Time  Current\n",
            "                                 Dload  Upload   Total   Spent    Left  Speed\n",
            "100 7631k  100 7631k    0     0  1749k      0  0:00:04  0:00:04 --:--:-- 1749k\n",
            "  % Total    % Received % Xferd  Average Speed   Time    Time     Time  Current\n",
            "                                 Dload  Upload   Total   Spent    Left  Speed\n",
            "100 2366k  100 2366k    0     0   611k      0  0:00:03  0:00:03 --:--:--  611k\n",
            "  % Total    % Received % Xferd  Average Speed   Time    Time     Time  Current\n",
            "                                 Dload  Upload   Total   Spent    Left  Speed\n",
            "100 7581k  100 7581k    0     0  2235k      0  0:00:03  0:00:03 --:--:-- 2235k\n",
            "  % Total    % Received % Xferd  Average Speed   Time    Time     Time  Current\n",
            "                                 Dload  Upload   Total   Spent    Left  Speed\n",
            "100 1895k  100 1895k    0     0   655k      0  0:00:02  0:00:02 --:--:--  654k\n"
          ],
          "name": "stdout"
        }
      ]
    },
    {
      "cell_type": "code",
      "metadata": {
        "id": "1VpVnNrZ1EiX",
        "colab_type": "code",
        "outputId": "13e88aaa-d38d-4053-a3d7-bb13d3505286",
        "colab": {
          "base_uri": "https://localhost:8080/",
          "height": 224
        }
      },
      "source": [
        "#Standard setup\n",
        "import pandas as pd\n",
        "import numpy as np\n",
        "import torch\n",
        "!pip install git+https://github.com/cmacdonald/spotlight.git@master#egg=spotlight\n",
        "from spotlight.interactions import Interactions\n"
      ],
      "execution_count": 0,
      "outputs": [
        {
          "output_type": "stream",
          "text": [
            "Collecting spotlight\n",
            "  Cloning https://github.com/cmacdonald/spotlight.git (to revision master) to /tmp/pip-install-coirnecr/spotlight\n",
            "  Running command git clone -q https://github.com/cmacdonald/spotlight.git /tmp/pip-install-coirnecr/spotlight\n",
            "Requirement already satisfied: torch>=0.4.0 in /usr/local/lib/python3.6/dist-packages (from spotlight) (1.4.0)\n",
            "Building wheels for collected packages: spotlight\n",
            "  Building wheel for spotlight (setup.py) ... \u001b[?25l\u001b[?25hdone\n",
            "  Created wheel for spotlight: filename=spotlight-0.1.6-cp36-none-any.whl size=34096 sha256=07eaacd69d495c62c18b62e6e7f6dfc41d7724606536e88c5a1bd55e84acb870\n",
            "  Stored in directory: /tmp/pip-ephem-wheel-cache-0_n4d528/wheels/22/6f/f1/68cc6c5b563e78737e4a8fed63ddc105a3baf25d2abccae0c6\n",
            "Successfully built spotlight\n",
            "Installing collected packages: spotlight\n",
            "Successfully installed spotlight-0.1.6\n"
          ],
          "name": "stdout"
        }
      ]
    },
    {
      "cell_type": "markdown",
      "metadata": {
        "id": "RtJO0e0m-hun",
        "colab_type": "text"
      },
      "source": [
        "# data preparation"
      ]
    },
    {
      "cell_type": "code",
      "metadata": {
        "id": "qKAb25iw1MYw",
        "colab_type": "code",
        "colab": {}
      },
      "source": [
        "#load in the csv files\n",
        "ratings_df = pd.read_csv(\"ratings.csv\")\n",
        "books_df = pd.read_csv(\"books.csv\")\n",
        "to_read_df = pd.read_csv(\"to_read.csv\")\n",
        "test = pd.read_csv(\"test.csv\")"
      ],
      "execution_count": 0,
      "outputs": []
    },
    {
      "cell_type": "code",
      "metadata": {
        "id": "W6rqfn53OhDC",
        "colab_type": "code",
        "colab": {}
      },
      "source": [
        "#cut down the number of items and users\n",
        "counts=ratings_df[ratings_df[\"book_id\"] < 2000].groupby([\"book_id\"]).count().reset_index()\n",
        "valid_books=counts[counts[\"user_id\"] >= 10][[\"book_id\"]]\n",
        "\n",
        "books_df = books_df.merge(valid_books, on=\"book_id\")\n",
        "\n",
        "ratings_df = ratings_df[ratings_df[\"user_id\"] < 2000].merge(valid_books, on=\"book_id\")\n",
        "to_read_df = to_read_df[to_read_df[\"user_id\"] < 2000].merge(valid_books, on=\"book_id\")\n",
        "test = test[test[\"user_id\"] < 2000].merge(valid_books, on=\"book_id\")\n"
      ],
      "execution_count": 0,
      "outputs": []
    },
    {
      "cell_type": "markdown",
      "metadata": {
        "id": "C7cgXhmYUXIn",
        "colab_type": "text"
      },
      "source": [
        "Here we construct the Interactions objects from `ratings.csv`, `to_read.csv` and `test.csv`. We manually specify the num_users and num_items parameters to all Interaction objects, in case the test set differs from your training sets."
      ]
    },
    {
      "cell_type": "code",
      "metadata": {
        "id": "15ClgJOdTTt1",
        "colab_type": "code",
        "outputId": "46cdffd8-37a1-4e49-c5a3-ccf64e597356",
        "colab": {
          "base_uri": "https://localhost:8080/",
          "height": 68
        }
      },
      "source": [
        "from collections import defaultdict\n",
        "from itertools import count\n",
        "\n",
        "from spotlight.cross_validation import random_train_test_split\n",
        "\n",
        "iid_map = defaultdict(count().__next__)\n",
        "\n",
        "\n",
        "rating_iids = np.array([iid_map[iid] for iid in ratings_df[\"book_id\"].values], dtype = np.int32)\n",
        "test_iids = np.array([iid_map[iid] for iid in test[\"book_id\"].values], dtype = np.int32)\n",
        "toread_iids = np.array([iid_map[iid] for iid in to_read_df[\"book_id\"].values], dtype = np.int32)\n",
        "\n",
        "\n",
        "uid_map = defaultdict(count().__next__)\n",
        "test_uids = np.array([uid_map[uid] for uid in test[\"user_id\"].values], dtype = np.int32)\n",
        "rating_uids = np.array([uid_map[uid] for uid in ratings_df[\"user_id\"].values], dtype = np.int32)\n",
        "toread_uids = np.array([uid_map[iid] for iid in to_read_df[\"user_id\"].values], dtype = np.int32)\n",
        "\n",
        "\n",
        "uid_rev_map = {v: k for k, v in uid_map.items()}\n",
        "iid_rev_map = {v: k for k, v in iid_map.items()}\n",
        "\n",
        "\n",
        "rating_dataset = Interactions(user_ids=rating_uids,\n",
        "                               item_ids=rating_iids,\n",
        "                               ratings=ratings_df[\"rating\"].values,\n",
        "                               num_users=len(uid_rev_map),\n",
        "                               num_items=len(iid_rev_map))\n",
        "\n",
        "toread_dataset = Interactions(user_ids=toread_uids,\n",
        "                               item_ids=toread_iids,\n",
        "                               num_users=len(uid_rev_map),\n",
        "                               num_items=len(iid_rev_map))\n",
        "\n",
        "test_dataset = Interactions(user_ids=test_uids,\n",
        "                               item_ids=test_iids,\n",
        "                               num_users=len(uid_rev_map),\n",
        "                               num_items=len(iid_rev_map))\n",
        "\n",
        "print(rating_dataset)\n",
        "print(toread_dataset)\n",
        "print(test_dataset)\n",
        "\n",
        "#here we define the validation set\n",
        "#toread_dataset_train, validation = random_train_test_split(toread_dataset, random_state=np.random.seed(42))\n",
        "toread_dataset_train, validation = random_train_test_split(toread_dataset, random_state=np.random.RandomState(42))\n",
        "num_items = test_dataset.num_items\n",
        "num_users = test_dataset.num_users"
      ],
      "execution_count": 0,
      "outputs": [
        {
          "output_type": "stream",
          "text": [
            "<Interactions dataset (1999 users x 1826 items x 124762 interactions)>\n",
            "<Interactions dataset (1999 users x 1826 items x 135615 interactions)>\n",
            "<Interactions dataset (1999 users x 1826 items x 33917 interactions)>\n"
          ],
          "name": "stdout"
        }
      ]
    },
    {
      "cell_type": "markdown",
      "metadata": {
        "id": "Kt4I2C5DTUL5",
        "colab_type": "text"
      },
      "source": [
        "#Example code\n",
        "\n",
        "To evaluate soem of your hand-implemented recommender systems (e.g. Q1, Q4), you will need to instantiate objects that match the specification of a Spotlight model, which `mrr_score()` expects.\n",
        "\n",
        "\n",
        "Here is an example recommender object that returns 0 for each item, regardless of user."
      ]
    },
    {
      "cell_type": "code",
      "metadata": {
        "id": "s2eaxy_hakbC",
        "colab_type": "code",
        "outputId": "41efdffd-4755-49f9-b7bd-3fd063be9396",
        "colab": {
          "base_uri": "https://localhost:8080/",
          "height": 34
        }
      },
      "source": [
        "from spotlight.evaluation import mrr_score\n",
        "\n",
        "\n",
        "class dummymodel:\n",
        "  \n",
        "  def __init__(self, numitems):\n",
        "    self.predictions=np.zeros(numitems)\n",
        "  \n",
        "  #uid is the user we are requesting recommendations for;\n",
        "  #returns an array of scores, one for each item\n",
        "  def predict(self, uid):\n",
        "    #this model returns all zeros, regardless of userid\n",
        "    return( self.predictions )\n",
        "\n",
        "#lets evaluate how the effeciveness of dummymodel\n",
        "\n",
        "print(mrr_score(dummymodel(num_items), test_dataset, train=rating_dataset, k=100).mean())\n",
        "#as expected, a recommendation model that gives 0 scores for all items obtains a MRR score of 0\n",
        "\n"
      ],
      "execution_count": 0,
      "outputs": [
        {
          "output_type": "stream",
          "text": [
            "0.0\n"
          ],
          "name": "stdout"
        }
      ]
    },
    {
      "cell_type": "code",
      "metadata": {
        "id": "ZQTJOmS5dB3i",
        "colab_type": "code",
        "outputId": "f6662ec7-392a-4025-dffa-d374bc416675",
        "colab": {
          "base_uri": "https://localhost:8080/",
          "height": 51
        }
      },
      "source": [
        "\n",
        "#note that the latest copy of Craig's Spotlight displays a progress bar if you set verbose=True\n",
        "print(mrr_score(dummymodel(num_items), test_dataset, train=rating_dataset, k=100, verbose=True).mean())\n"
      ],
      "execution_count": 0,
      "outputs": [
        {
          "output_type": "stream",
          "text": [
            "1999it [00:00, 2877.66it/s]"
          ],
          "name": "stderr"
        },
        {
          "output_type": "stream",
          "text": [
            "0.0\n"
          ],
          "name": "stdout"
        },
        {
          "output_type": "stream",
          "text": [
            "\n"
          ],
          "name": "stderr"
        }
      ]
    },
    {
      "cell_type": "markdown",
      "metadata": {
        "id": "SyvGgW_3ZjLV",
        "colab_type": "text"
      },
      "source": [
        "#Q1\n"
      ]
    },
    {
      "cell_type": "code",
      "metadata": {
        "id": "gsDUxXxEUq7f",
        "colab_type": "code",
        "outputId": "a74c7c0e-ef42-497c-e15b-b8427f6854b4",
        "colab": {
          "base_uri": "https://localhost:8080/",
          "height": 34
        }
      },
      "source": [
        "from spotlight.evaluation import mrr_score\n",
        "\n",
        "\n",
        "class averageRating:\n",
        "  \n",
        "  def __init__(self, numitems):\n",
        "    self.predictions= ratings_df.groupby(ratings_df['book_id']).mean().reset_index()['rating']\n",
        "  \n",
        "  #uid is the user we are requesting recommendations for;\n",
        "  #returns an array of scores, one for each item\n",
        "  def predict(self, uid):\n",
        "\n",
        "    #this model returns all zeros, regardless of userid\n",
        "    return (self.predictions)\n",
        "\n",
        "#lets evaluate how the effeciveness of dummymodel\n",
        "\n",
        "print(mrr_score(averageRating(num_items), test_dataset).mean())\n",
        "#as expected, a recommendation model that gives 0 scores for all items obtains a MRR score of 0\n"
      ],
      "execution_count": 0,
      "outputs": [
        {
          "output_type": "stream",
          "text": [
            "0.011335079304358063\n"
          ],
          "name": "stdout"
        }
      ]
    },
    {
      "cell_type": "code",
      "metadata": {
        "id": "B39oHwYvcP8Z",
        "colab_type": "code",
        "colab": {}
      },
      "source": [
        "books_df"
      ],
      "execution_count": 0,
      "outputs": []
    },
    {
      "cell_type": "code",
      "metadata": {
        "id": "sn9QL5DDbHsY",
        "colab_type": "code",
        "outputId": "9a937e25-5f7b-4f59-b6bd-8078db74fead",
        "colab": {
          "base_uri": "https://localhost:8080/",
          "height": 34
        }
      },
      "source": [
        "class ratingCount:\n",
        "  \n",
        "  def __init__(self, numitems):\n",
        "    groupingMeanSeries = ratings_df[[\"movieId\", \"rating\"]].groupby([\"movieId\"]).mean()\n",
        "    self.predictions=books_df.sort_values('ratings_count', ascending=True)['book_id']\n",
        "  \n",
        "  #uid is the user we are requesting recommendations for;\n",
        "  #returns an array of scores, one for each item\n",
        "  def predict(self, uid):\n",
        "\n",
        "    #this model returns all zeros, regardless of userid\n",
        "    return (self.predictions)\n",
        "\n",
        "#lets evaluate how the effeciveness of dummymodel\n",
        "\n",
        "print(mrr_score(ratingCount(num_items), test_dataset).mean())\n",
        "#as expected, a recommendation model that gives 0 scores for all items obtains a MRR score of 0\n"
      ],
      "execution_count": 0,
      "outputs": [
        {
          "output_type": "stream",
          "text": [
            "0.06652234847582521\n"
          ],
          "name": "stdout"
        }
      ]
    },
    {
      "cell_type": "code",
      "metadata": {
        "id": "7JFOPSqScmsN",
        "colab_type": "code",
        "outputId": "cde30e20-191c-4f14-91de-717a70b966db",
        "colab": {
          "base_uri": "https://localhost:8080/",
          "height": 34
        }
      },
      "source": [
        "class fiveStarRating:\n",
        "  \n",
        "  def __init__(self, numitems):\n",
        "    self.predictions=np.zeros(numitems)\n",
        "  \n",
        "  #uid is the user we are requesting recommendations for;\n",
        "  #returns an array of scores, one for each item\n",
        "  def predict(self, uid):\n",
        "\n",
        "    #this model returns all zeros, regardless of userid\n",
        "    return books_df['ratings_5']\n",
        "\n",
        "#lets evaluate how the effeciveness of dummymodel\n",
        "\n",
        "print(mrr_score(fiveStarRating(num_items), test_dataset).mean())\n",
        "#as expected, a recommendation model that gives 0 scores for all items obtains a MRR score of 0"
      ],
      "execution_count": 0,
      "outputs": [
        {
          "output_type": "stream",
          "text": [
            "0.0687045903904333\n"
          ],
          "name": "stdout"
        }
      ]
    },
    {
      "cell_type": "code",
      "metadata": {
        "id": "CBMC6yux4XT9",
        "colab_type": "code",
        "outputId": "08689902-2b40-42b4-f151-faebec7984e1",
        "colab": {
          "base_uri": "https://localhost:8080/",
          "height": 34
        }
      },
      "source": [
        "class fracOfFiveStarRating:\n",
        "  \n",
        "  def __init__(self, numitems):\n",
        "    self.predictions=np.zeros(numitems)\n",
        "  \n",
        "  #uid is the user we are requesting recommendations for;\n",
        "  #returns an array of scores, one for each item\n",
        "  def predict(self, uid):\n",
        "\n",
        "    #this model returns all zeros, regardless of userid\n",
        "    return books_df['ratings_5'] / books_df['ratings_count']\n",
        "\n",
        "#lets evaluate how the effeciveness of dummymodel\n",
        "\n",
        "print(mrr_score(fracOfFiveStarRating(num_items), test_dataset).mean())\n",
        "#as expected, a recommendation model that gives 0 scores for all items obtains a MRR score of 0"
      ],
      "execution_count": 0,
      "outputs": [
        {
          "output_type": "stream",
          "text": [
            "0.013986556770448718\n"
          ],
          "name": "stdout"
        }
      ]
    },
    {
      "cell_type": "code",
      "metadata": {
        "id": "6nmzPC_QNBQp",
        "colab_type": "code",
        "outputId": "5b496e79-8606-40a7-eeb9-36794880497f",
        "colab": {
          "base_uri": "https://localhost:8080/",
          "height": 493
        }
      },
      "source": [
        "from spotlight.factorization.explicit import ExplicitFactorizationModel\n",
        "import time  \n",
        "\n",
        "latent_factors = [8,16,32,64]\n",
        "\n",
        "for latent_factor in latent_factors:\n",
        "  emodel = ExplicitFactorizationModel(n_iter=5, embedding_dim=latent_factor, random_state=np.random.RandomState(1))\n",
        "  current = time.time()\n",
        "\n",
        "  emodel.fit(rating_dataset, verbose=True)\n",
        "\n",
        "  end = time.time()\n",
        "  diff = end - current\n",
        "  print(\"Training took %d seconds \"% (diff))\n",
        "  print(mrr_score(emodel, validation).mean())\n"
      ],
      "execution_count": 0,
      "outputs": [
        {
          "output_type": "stream",
          "text": [
            "Epoch 0: loss 5.546910882484718\n",
            "Epoch 1: loss 0.8069540473525642\n",
            "Epoch 2: loss 0.7444186094598692\n",
            "Epoch 3: loss 0.7016327472739532\n",
            "Epoch 4: loss 0.6687415688008559\n",
            "Training took 8 seconds \n",
            "0.022602174102924477\n",
            "Epoch 0: loss 4.50729059134839\n",
            "Epoch 1: loss 0.7876759265534213\n",
            "Epoch 2: loss 0.6983933953232453\n",
            "Epoch 3: loss 0.63182490025876\n",
            "Epoch 4: loss 0.5818731948489049\n",
            "Training took 8 seconds \n",
            "0.024302230480319525\n",
            "Epoch 0: loss 3.9730885583357733\n",
            "Epoch 1: loss 0.7902639296944024\n",
            "Epoch 2: loss 0.6297312552323107\n",
            "Epoch 3: loss 0.5185502647865013\n",
            "Epoch 4: loss 0.446325780854362\n",
            "Training took 12 seconds \n",
            "0.03584709021177255\n",
            "Epoch 0: loss 3.4746042099155363\n",
            "Epoch 1: loss 0.7811282048704195\n",
            "Epoch 2: loss 0.5363745120216589\n",
            "Epoch 3: loss 0.41745556347438545\n",
            "Epoch 4: loss 0.3746082321664349\n",
            "Training took 14 seconds \n",
            "0.07864467948259844\n"
          ],
          "name": "stdout"
        }
      ]
    },
    {
      "cell_type": "code",
      "metadata": {
        "id": "g8VZkw2hPvW8",
        "colab_type": "code",
        "colab": {}
      },
      "source": [
        "from spotlight.factorization.explicit import ExplicitFactorizationModel\n",
        "import time  \n",
        "emodel = ExplicitFactorizationModel(n_iter=5, embedding_dim=64, random_state=np.random.RandomState(1))\n",
        "current = time.time()\n",
        "emodel.fit(rating_dataset, verbose=True)\n",
        "end = time.time()\n",
        "diff = end - current\n",
        "print(\"Training took %d seconds \"% (diff))\n",
        "print(mrr_score(emodel, test_dataset).mean())"
      ],
      "execution_count": 0,
      "outputs": []
    },
    {
      "cell_type": "code",
      "metadata": {
        "id": "wumGWC7Occta",
        "colab_type": "code",
        "colab": {}
      },
      "source": [
        "from spotlight.factorization.implicit import ImplicitFactorizationModel\n",
        "import time  \n",
        "latent_factors = [8,16,32,64]\n",
        "\n",
        "for latent_factor in latent_factors:\n",
        "  imodel = ImplicitFactorizationModel(n_iter=5, loss='bpr', embedding_dim=latent_factor, random_state=np.random.RandomState(1))\n",
        "  current = time.time()\n",
        "\n",
        "  imodel.fit(rating_dataset, verbose=True)\n",
        "\n",
        "  end = time.time()\n",
        "  diff = end - current\n",
        "  print(\"Training took %d seconds \"% (diff))\n",
        "  print(mrr_score(imodel, validation).mean())\n",
        "\n"
      ],
      "execution_count": 0,
      "outputs": []
    },
    {
      "cell_type": "code",
      "metadata": {
        "id": "iSwx9qnWR3qu",
        "colab_type": "code",
        "colab": {}
      },
      "source": [
        "from spotlight.factorization.implicit import ImplicitFactorizationModel\n",
        "import time  \n",
        "imodel_best1 = ImplicitFactorizationModel(n_iter=5, loss='bpr', embedding_dim=64, random_state=np.random.RandomState(1))\n",
        "current = time.time()\n",
        "imodel_best1.fit(rating_dataset, verbose=True)\n",
        "end = time.time()\n",
        "diff = end - current\n",
        "print(\"Training took %d seconds \"% (diff))\n",
        "imodel_mrr_ed=mrr_score(imodel_best1, test_dataset)\n",
        "print(imodel_mrr)\n"
      ],
      "execution_count": 0,
      "outputs": []
    },
    {
      "cell_type": "code",
      "metadata": {
        "id": "DNBbQmASbF5N",
        "colab_type": "code",
        "colab": {}
      },
      "source": [
        "from spotlight.factorization.implicit import ImplicitFactorizationModel\n",
        "import time  \n",
        "latent_factors = [8,16,32,64]\n",
        "for latent_factor in latent_factors:\n",
        "  imodelBPR = ImplicitFactorizationModel(n_iter=5, loss='bpr', embedding_dim=latent_factor, random_state=np.random.RandomState(1))\n",
        "  current = time.time()\n",
        "\n",
        "  imodelBPR.fit(toread_dataset_train, verbose=True)\n",
        "\n",
        "  end = time.time()\n",
        "  diff = end - current\n",
        "  print(\"Training took %d seconds \"% (diff))\n",
        "  print(mrr_score(imodelBPR, validation).mean()) "
      ],
      "execution_count": 0,
      "outputs": []
    },
    {
      "cell_type": "code",
      "metadata": {
        "id": "eItRmfq9TWaX",
        "colab_type": "code",
        "colab": {}
      },
      "source": [
        "from spotlight.factorization.implicit import ImplicitFactorizationModel\n",
        "import time  \n",
        "imodel_best2 = ImplicitFactorizationModel(n_iter=5, loss='bpr', embedding_dim=16, random_state=np.random.RandomState(1))\n",
        "current = time.time()\n",
        "imodel_best2.fit(toread_dataset_train, verbose=True)\n",
        "end = time.time()\n",
        "diff = end - current\n",
        "print(\"Training took %d seconds \"% (diff))\n",
        "imodel__mrr_id=mrr_score(imodel_best2, test_dataset)\n",
        "print(imodel_bpr_mrr)"
      ],
      "execution_count": 0,
      "outputs": []
    },
    {
      "cell_type": "code",
      "metadata": {
        "id": "clKsgPx3PAmJ",
        "colab_type": "code",
        "outputId": "9d7070d3-469f-482e-b0a6-7df904cda699",
        "colab": {
          "base_uri": "https://localhost:8080/",
          "height": 34
        }
      },
      "source": [
        "import scipy.stats as st\n",
        "rrs = mrr_score(imodelBPR, test_dataset)\n",
        "RR_ranks = st.rankdata(rrs, method='max')\n",
        "\n",
        "def countRatings(uid, rr):\n",
        "  #for uid in np.argwhere(rrs==1):\n",
        "  print(\"User with id %d with RR %f had %d ratings\" %( uid, rr, len(toread_iids[toread_uids==uid])))\n",
        "\n",
        "countRatings( np.argwhere(RR_ranks==RR_ranks.max()).item(0), rrs[RR_ranks==RR_ranks.max()].item(0))"
      ],
      "execution_count": 0,
      "outputs": [
        {
          "output_type": "stream",
          "text": [
            "User with id 9 with RR 1.000000 had 46 ratings\n"
          ],
          "name": "stdout"
        }
      ]
    },
    {
      "cell_type": "code",
      "metadata": {
        "id": "xWpISbpePWSi",
        "colab_type": "code",
        "outputId": "49fd1e8f-c4e9-4203-94ba-1805317a1712",
        "colab": {
          "base_uri": "https://localhost:8080/",
          "height": 34
        }
      },
      "source": [
        "import scipy.stats as st\n",
        "rrs1 = mrr_score(imodelBPR, test_dataset)\n",
        "RR_ranks1 = st.rankdata(rrs1, method='max')\n",
        "\n",
        "def countRatings1(uid, rr):\n",
        " # for uid in np.argwhere(rrs1==1):\n",
        "  print(\"User with id %d with RR %f had %d ratings\" %( uid, rr, len(rating_iids[rating_uids==uid])))\n",
        "\n",
        "countRatings1( np.argwhere(RR_ranks1==RR_ranks1.max()).item(0), rrs1[RR_ranks1==RR_ranks1.max()].item(0))"
      ],
      "execution_count": 0,
      "outputs": [
        {
          "output_type": "stream",
          "text": [
            "User with id 9 with RR 1.000000 had 40 ratings\n"
          ],
          "name": "stdout"
        }
      ]
    },
    {
      "cell_type": "code",
      "metadata": {
        "id": "pbU3cvp6GstO",
        "colab_type": "code",
        "outputId": "784af91a-b24b-4f44-ab5b-c253c1870e94",
        "colab": {
          "base_uri": "https://localhost:8080/",
          "height": 34
        }
      },
      "source": [
        "class Combsum:\n",
        "\n",
        "  def __init__(self, numitems):\n",
        "    self.predictions=imodel_best1.predict(numitems) + imodel_best2.predict(numitems)\n",
        "  \n",
        "  #uid is the user we are requesting recommendations for;\n",
        "  #returns an array of scores, one for each item\n",
        "  def predict(self, uid):\n",
        "   \n",
        "   return (self.predictions) \n",
        "\n",
        "#lets evaluate how the effeciveness of dummymodel\n",
        "\n",
        "combsum_model=mrr_score(Combsum(num_items), test_dataset).mean()\n",
        "print(combsum_model)\n",
        "\n",
        "#as expected, a recommendation model that gives 0 scores for all items obtains a MRR score of 0"
      ],
      "execution_count": 0,
      "outputs": [
        {
          "output_type": "stream",
          "text": [
            "0.1657191691083637\n"
          ],
          "name": "stdout"
        }
      ]
    },
    {
      "cell_type": "code",
      "metadata": {
        "id": "2RTvwuvJsxzT",
        "colab_type": "code",
        "colab": {}
      },
      "source": [
        "print(combsum_model)"
      ],
      "execution_count": 0,
      "outputs": []
    },
    {
      "cell_type": "code",
      "metadata": {
        "id": "M7nJ_jbfsb29",
        "colab_type": "code",
        "outputId": "95ba75a0-abd7-4396-f275-e3b761692252",
        "colab": {
          "base_uri": "https://localhost:8080/",
          "height": 282
        }
      },
      "source": [
        "import scipy.stats as st\n",
        "import matplotlib.pyplot as plt\n",
        "\n",
        "test_rrs = mrr_score(imodel_best2, test_dataset)\n",
        "toread_rrs = mrr_score(Combsum(num_items), test_dataset)\n",
        "\n",
        "uids= []\n",
        "y = []\n",
        "x = []\n",
        "for uid in np.argwhere(toread_rrs < test_rrs):\n",
        "  if(toread_rrs[uid] < test_rrs[uid]):\n",
        "    y.append(toread_rrs[uid].item(0))\n",
        "    x.append(test_rrs[uid].item(0))\n",
        "  uids.append(uid.item(0))\n",
        "\n",
        "plt.plot(uids, y)\n",
        "plt.plot(uids, x, color='g')"
      ],
      "execution_count": 0,
      "outputs": [
        {
          "output_type": "execute_result",
          "data": {
            "text/plain": [
              "[<matplotlib.lines.Line2D at 0x7fb9eb84d9b0>]"
            ]
          },
          "metadata": {
            "tags": []
          },
          "execution_count": 93
        },
        {
          "output_type": "display_data",
          "data": {
            "image/png": "[encoded data removed]",
            "text/plain": [
              "<Figure size 432x288 with 1 Axes>"
            ]
          },
          "metadata": {
            "tags": []
          }
        }
      ]
    },
    {
      "cell_type": "code",
      "metadata": {
        "id": "E7pYW3pMszsG",
        "colab_type": "code",
        "outputId": "5fabd5af-78cf-4eed-84c6-706d9dfcb44b",
        "colab": {
          "base_uri": "https://localhost:8080/",
          "height": 204
        }
      },
      "source": [
        "positives=ratings_df[ratings_df[\"rating\"]>=4]\n",
        "\n",
        "#join positives with itself on userId to get all pairs of movies watched by a given user.\n",
        "\n",
        "pairs=pd.merge(positives, positives, on=[\"user_id\"])\n",
        "\n",
        "sequences=pairs[pairs[\"book_id_x\"] < pairs[\"book_id_y\"]] \n",
        "\n",
        "#lets count the frequency of each pair of movies.\n",
        "paircounts=sequences[[\"book_id_x\", \"book_id_y\", \"user_id\"]].groupby([\"book_id_x\", \"book_id_y\"]).count()\n",
        "\n",
        "#sort by the most popular pairs.\n",
        "pairswithcounts = paircounts.reset_index().rename(columns={\"user_id\" : \"count\"}).sort_values(['count'], ascending=False)\n",
        "\n",
        "#display the top most frequent pairs\n",
        "pairswithcounts.head()"
      ],
      "execution_count": 0,
      "outputs": [
        {
          "output_type": "execute_result",
          "data": {
            "text/html": [
              "<div>\n",
              "<style scoped>\n",
              "    .dataframe tbody tr th:only-of-type {\n",
              "        vertical-align: middle;\n",
              "    }\n",
              "\n",
              "    .dataframe tbody tr th {\n",
              "        vertical-align: top;\n",
              "    }\n",
              "\n",
              "    .dataframe thead th {\n",
              "        text-align: right;\n",
              "    }\n",
              "</style>\n",
              "<table border=\"1\" class=\"dataframe\">\n",
              "  <thead>\n",
              "    <tr style=\"text-align: right;\">\n",
              "      <th></th>\n",
              "      <th>book_id_x</th>\n",
              "      <th>book_id_y</th>\n",
              "      <th>count</th>\n",
              "    </tr>\n",
              "  </thead>\n",
              "  <tbody>\n",
              "    <tr>\n",
              "      <th>15</th>\n",
              "      <td>1</td>\n",
              "      <td>17</td>\n",
              "      <td>277</td>\n",
              "    </tr>\n",
              "    <tr>\n",
              "      <th>25705</th>\n",
              "      <td>18</td>\n",
              "      <td>27</td>\n",
              "      <td>267</td>\n",
              "    </tr>\n",
              "    <tr>\n",
              "      <th>25702</th>\n",
              "      <td>18</td>\n",
              "      <td>24</td>\n",
              "      <td>264</td>\n",
              "    </tr>\n",
              "    <tr>\n",
              "      <th>30277</th>\n",
              "      <td>21</td>\n",
              "      <td>27</td>\n",
              "      <td>256</td>\n",
              "    </tr>\n",
              "    <tr>\n",
              "      <th>25699</th>\n",
              "      <td>18</td>\n",
              "      <td>21</td>\n",
              "      <td>256</td>\n",
              "    </tr>\n",
              "  </tbody>\n",
              "</table>\n",
              "</div>"
            ],
            "text/plain": [
              "       book_id_x  book_id_y  count\n",
              "15             1         17    277\n",
              "25705         18         27    267\n",
              "25702         18         24    264\n",
              "30277         21         27    256\n",
              "25699         18         21    256"
            ]
          },
          "metadata": {
            "tags": []
          },
          "execution_count": 57
        }
      ]
    },
    {
      "cell_type": "code",
      "metadata": {
        "id": "CHkXoO8otvNo",
        "colab_type": "code",
        "outputId": "b1a4b0d6-4d23-40b8-8f36-42a5e1276649",
        "colab": {
          "base_uri": "https://localhost:8080/",
          "height": 932
        }
      },
      "source": [
        "##Solution\n",
        "\n",
        "\n",
        "\n",
        "# pairswithcounts gives is the frequency of (X AND Y). \n",
        "\n",
        "#We therefore need the counts of movies\n",
        "bookCounts = positives.groupby([\"book_id\"]).count()[[\"user_id\"]].reset_index().rename(columns={\"user_id\" : \"ratingCount\"})\n",
        "\n",
        "#lets puts all the information in the sample dataframe.\n",
        "allstats = pairswithcounts.merge(bookCounts, left_on=\"book_id_x\", right_on=\"book_id\").merge(bookCounts, left_on=\"book_id_y\", right_on=\"book_id\")\n",
        "\n",
        "#and drop out some unused columns\n",
        "allstats = allstats[[\"book_id_x\",\t\"book_id_y\",\t\"count\", \"ratingCount_x\", \"ratingCount_y\"]]\n",
        "allstats = allstats.loc[:,~allstats.columns.duplicated()]\n",
        "\n",
        "#to calculate probabilites we need a denominator. I used the number of total ratings\n",
        "num=float(ratings_df.count()[\"rating\"])\n",
        "\n",
        "#we can then perform artihmetic on columns\n",
        "allstats[\"lift\"] = (allstats[\"count\"] / num ) / ( (allstats[\"ratingCount_x\"] / num) * (allstats[\"ratingCount_y\"] / num))\n",
        "\n",
        "#and finally, merge in the titles\n",
        "withtitles = allstats.merge(books_df, left_on=[\"book_id_x\"], right_on=\"book_id\").merge(books_df, left_on=[\"book_id_y\"], right_on=\"book_id\")\n",
        "\n",
        "withtitles.sort_values(['lift'], ascending=False)\n",
        "\n",
        "#note that some of the movies with highlest lift have very low frequencies. We would apply a minium support threshold\n"
      ],
      "execution_count": 0,
      "outputs": [
        {
          "output_type": "execute_result",
          "data": {
            "text/html": [
              "<div>\n",
              "<style scoped>\n",
              "    .dataframe tbody tr th:only-of-type {\n",
              "        vertical-align: middle;\n",
              "    }\n",
              "\n",
              "    .dataframe tbody tr th {\n",
              "        vertical-align: top;\n",
              "    }\n",
              "\n",
              "    .dataframe thead th {\n",
              "        text-align: right;\n",
              "    }\n",
              "</style>\n",
              "<table border=\"1\" class=\"dataframe\">\n",
              "  <thead>\n",
              "    <tr style=\"text-align: right;\">\n",
              "      <th></th>\n",
              "      <th>book_id_x</th>\n",
              "      <th>book_id_y</th>\n",
              "      <th>count</th>\n",
              "      <th>ratingCount_x</th>\n",
              "      <th>ratingCount_y</th>\n",
              "      <th>lift</th>\n",
              "      <th>Unnamed: 0_x</th>\n",
              "      <th>book_id_x</th>\n",
              "      <th>goodreads_book_id_x</th>\n",
              "      <th>best_book_id_x</th>\n",
              "      <th>work_id_x</th>\n",
              "      <th>books_count_x</th>\n",
              "      <th>isbn_x</th>\n",
              "      <th>isbn13_x</th>\n",
              "      <th>authors_x</th>\n",
              "      <th>original_publication_year_x</th>\n",
              "      <th>original_title_x</th>\n",
              "      <th>title_x</th>\n",
              "      <th>language_code_x</th>\n",
              "      <th>average_rating_x</th>\n",
              "      <th>ratings_count_x</th>\n",
              "      <th>work_ratings_count_x</th>\n",
              "      <th>work_text_reviews_count_x</th>\n",
              "      <th>ratings_1_x</th>\n",
              "      <th>ratings_2_x</th>\n",
              "      <th>ratings_3_x</th>\n",
              "      <th>ratings_4_x</th>\n",
              "      <th>ratings_5_x</th>\n",
              "      <th>image_url_x</th>\n",
              "      <th>small_image_url_x</th>\n",
              "      <th>Unnamed: 0_y</th>\n",
              "      <th>book_id_y</th>\n",
              "      <th>goodreads_book_id_y</th>\n",
              "      <th>best_book_id_y</th>\n",
              "      <th>work_id_y</th>\n",
              "      <th>books_count_y</th>\n",
              "      <th>isbn_y</th>\n",
              "      <th>isbn13_y</th>\n",
              "      <th>authors_y</th>\n",
              "      <th>original_publication_year_y</th>\n",
              "      <th>original_title_y</th>\n",
              "      <th>title_y</th>\n",
              "      <th>language_code_y</th>\n",
              "      <th>average_rating_y</th>\n",
              "      <th>ratings_count_y</th>\n",
              "      <th>work_ratings_count_y</th>\n",
              "      <th>work_text_reviews_count_y</th>\n",
              "      <th>ratings_1_y</th>\n",
              "      <th>ratings_2_y</th>\n",
              "      <th>ratings_3_y</th>\n",
              "      <th>ratings_4_y</th>\n",
              "      <th>ratings_5_y</th>\n",
              "      <th>image_url_y</th>\n",
              "      <th>small_image_url_y</th>\n",
              "    </tr>\n",
              "  </thead>\n",
              "  <tbody>\n",
              "    <tr>\n",
              "      <th>519794</th>\n",
              "      <td>1140</td>\n",
              "      <td>1302</td>\n",
              "      <td>1</td>\n",
              "      <td>1</td>\n",
              "      <td>1</td>\n",
              "      <td>124762.000000</td>\n",
              "      <td>1139</td>\n",
              "      <td>1140</td>\n",
              "      <td>5287473</td>\n",
              "      <td>5287473</td>\n",
              "      <td>5354884</td>\n",
              "      <td>53</td>\n",
              "      <td>1423121309</td>\n",
              "      <td>9.781423e+12</td>\n",
              "      <td>Rachel Hawkins</td>\n",
              "      <td>2010.0</td>\n",
              "      <td>Hex Hall</td>\n",
              "      <td>Hex Hall (Hex Hall, #1)</td>\n",
              "      <td>eng</td>\n",
              "      <td>3.96</td>\n",
              "      <td>109881</td>\n",
              "      <td>114594</td>\n",
              "      <td>7766</td>\n",
              "      <td>2764</td>\n",
              "      <td>6358</td>\n",
              "      <td>24747</td>\n",
              "      <td>39195</td>\n",
              "      <td>41530</td>\n",
              "      <td>https://images.gr-assets.com/books/1368393885m...</td>\n",
              "      <td>https://images.gr-assets.com/books/1368393885s...</td>\n",
              "      <td>1301</td>\n",
              "      <td>1302</td>\n",
              "      <td>8235178</td>\n",
              "      <td>8235178</td>\n",
              "      <td>13082532</td>\n",
              "      <td>56</td>\n",
              "      <td>1595143971</td>\n",
              "      <td>9.781595e+12</td>\n",
              "      <td>Beth Revis</td>\n",
              "      <td>2011.0</td>\n",
              "      <td>Across the Universe</td>\n",
              "      <td>Across the Universe (Across the Universe, #1)</td>\n",
              "      <td>eng</td>\n",
              "      <td>3.78</td>\n",
              "      <td>94176</td>\n",
              "      <td>100748</td>\n",
              "      <td>9649</td>\n",
              "      <td>3870</td>\n",
              "      <td>8338</td>\n",
              "      <td>24592</td>\n",
              "      <td>33481</td>\n",
              "      <td>30467</td>\n",
              "      <td>https://s.gr-assets.com/assets/nophoto/book/11...</td>\n",
              "      <td>https://s.gr-assets.com/assets/nophoto/book/50...</td>\n",
              "    </tr>\n",
              "    <tr>\n",
              "      <th>538493</th>\n",
              "      <td>418</td>\n",
              "      <td>1416</td>\n",
              "      <td>1</td>\n",
              "      <td>1</td>\n",
              "      <td>1</td>\n",
              "      <td>124762.000000</td>\n",
              "      <td>417</td>\n",
              "      <td>418</td>\n",
              "      <td>6479259</td>\n",
              "      <td>6479259</td>\n",
              "      <td>6670482</td>\n",
              "      <td>71</td>\n",
              "      <td>1595142509</td>\n",
              "      <td>9.781595e+12</td>\n",
              "      <td>Richelle Mead</td>\n",
              "      <td>2010.0</td>\n",
              "      <td>Spirit Bound</td>\n",
              "      <td>Spirit Bound (Vampire Academy, #5)</td>\n",
              "      <td>eng</td>\n",
              "      <td>4.37</td>\n",
              "      <td>224247</td>\n",
              "      <td>235076</td>\n",
              "      <td>8030</td>\n",
              "      <td>2755</td>\n",
              "      <td>5907</td>\n",
              "      <td>26981</td>\n",
              "      <td>66097</td>\n",
              "      <td>133336</td>\n",
              "      <td>https://images.gr-assets.com/books/1291168967m...</td>\n",
              "      <td>https://images.gr-assets.com/books/1291168967s...</td>\n",
              "      <td>1415</td>\n",
              "      <td>1416</td>\n",
              "      <td>8709523</td>\n",
              "      <td>8709523</td>\n",
              "      <td>13582370</td>\n",
              "      <td>35</td>\n",
              "      <td>1595143181</td>\n",
              "      <td>9.781595e+12</td>\n",
              "      <td>Richelle Mead</td>\n",
              "      <td>2012.0</td>\n",
              "      <td>The Golden Lily</td>\n",
              "      <td>The Golden Lily (Bloodlines, #2)</td>\n",
              "      <td>en-US</td>\n",
              "      <td>4.36</td>\n",
              "      <td>86929</td>\n",
              "      <td>91787</td>\n",
              "      <td>6026</td>\n",
              "      <td>688</td>\n",
              "      <td>1779</td>\n",
              "      <td>10687</td>\n",
              "      <td>29356</td>\n",
              "      <td>49277</td>\n",
              "      <td>https://images.gr-assets.com/books/1360599818m...</td>\n",
              "      <td>https://images.gr-assets.com/books/1360599818s...</td>\n",
              "    </tr>\n",
              "    <tr>\n",
              "      <th>494143</th>\n",
              "      <td>1140</td>\n",
              "      <td>1608</td>\n",
              "      <td>1</td>\n",
              "      <td>1</td>\n",
              "      <td>1</td>\n",
              "      <td>124762.000000</td>\n",
              "      <td>1139</td>\n",
              "      <td>1140</td>\n",
              "      <td>5287473</td>\n",
              "      <td>5287473</td>\n",
              "      <td>5354884</td>\n",
              "      <td>53</td>\n",
              "      <td>1423121309</td>\n",
              "      <td>9.781423e+12</td>\n",
              "      <td>Rachel Hawkins</td>\n",
              "      <td>2010.0</td>\n",
              "      <td>Hex Hall</td>\n",
              "      <td>Hex Hall (Hex Hall, #1)</td>\n",
              "      <td>eng</td>\n",
              "      <td>3.96</td>\n",
              "      <td>109881</td>\n",
              "      <td>114594</td>\n",
              "      <td>7766</td>\n",
              "      <td>2764</td>\n",
              "      <td>6358</td>\n",
              "      <td>24747</td>\n",
              "      <td>39195</td>\n",
              "      <td>41530</td>\n",
              "      <td>https://images.gr-assets.com/books/1368393885m...</td>\n",
              "      <td>https://images.gr-assets.com/books/1368393885s...</td>\n",
              "      <td>1607</td>\n",
              "      <td>1608</td>\n",
              "      <td>7719245</td>\n",
              "      <td>7719245</td>\n",
              "      <td>6949381</td>\n",
              "      <td>39</td>\n",
              "      <td>61985848</td>\n",
              "      <td>9.780062e+12</td>\n",
              "      <td>Kiersten White</td>\n",
              "      <td>2010.0</td>\n",
              "      <td>Paranormalcy</td>\n",
              "      <td>Paranormalcy (Paranormalcy, #1)</td>\n",
              "      <td>eng</td>\n",
              "      <td>3.91</td>\n",
              "      <td>79959</td>\n",
              "      <td>82832</td>\n",
              "      <td>5783</td>\n",
              "      <td>2417</td>\n",
              "      <td>5678</td>\n",
              "      <td>18581</td>\n",
              "      <td>26208</td>\n",
              "      <td>29948</td>\n",
              "      <td>https://images.gr-assets.com/books/1496938681m...</td>\n",
              "      <td>https://images.gr-assets.com/books/1496938681s...</td>\n",
              "    </tr>\n",
              "    <tr>\n",
              "      <th>494144</th>\n",
              "      <td>1302</td>\n",
              "      <td>1608</td>\n",
              "      <td>1</td>\n",
              "      <td>1</td>\n",
              "      <td>1</td>\n",
              "      <td>124762.000000</td>\n",
              "      <td>1301</td>\n",
              "      <td>1302</td>\n",
              "      <td>8235178</td>\n",
              "      <td>8235178</td>\n",
              "      <td>13082532</td>\n",
              "      <td>56</td>\n",
              "      <td>1595143971</td>\n",
              "      <td>9.781595e+12</td>\n",
              "      <td>Beth Revis</td>\n",
              "      <td>2011.0</td>\n",
              "      <td>Across the Universe</td>\n",
              "      <td>Across the Universe (Across the Universe, #1)</td>\n",
              "      <td>eng</td>\n",
              "      <td>3.78</td>\n",
              "      <td>94176</td>\n",
              "      <td>100748</td>\n",
              "      <td>9649</td>\n",
              "      <td>3870</td>\n",
              "      <td>8338</td>\n",
              "      <td>24592</td>\n",
              "      <td>33481</td>\n",
              "      <td>30467</td>\n",
              "      <td>https://s.gr-assets.com/assets/nophoto/book/11...</td>\n",
              "      <td>https://s.gr-assets.com/assets/nophoto/book/50...</td>\n",
              "      <td>1607</td>\n",
              "      <td>1608</td>\n",
              "      <td>7719245</td>\n",
              "      <td>7719245</td>\n",
              "      <td>6949381</td>\n",
              "      <td>39</td>\n",
              "      <td>61985848</td>\n",
              "      <td>9.780062e+12</td>\n",
              "      <td>Kiersten White</td>\n",
              "      <td>2010.0</td>\n",
              "      <td>Paranormalcy</td>\n",
              "      <td>Paranormalcy (Paranormalcy, #1)</td>\n",
              "      <td>eng</td>\n",
              "      <td>3.91</td>\n",
              "      <td>79959</td>\n",
              "      <td>82832</td>\n",
              "      <td>5783</td>\n",
              "      <td>2417</td>\n",
              "      <td>5678</td>\n",
              "      <td>18581</td>\n",
              "      <td>26208</td>\n",
              "      <td>29948</td>\n",
              "      <td>https://images.gr-assets.com/books/1496938681m...</td>\n",
              "      <td>https://images.gr-assets.com/books/1496938681s...</td>\n",
              "    </tr>\n",
              "    <tr>\n",
              "      <th>538398</th>\n",
              "      <td>880</td>\n",
              "      <td>1227</td>\n",
              "      <td>1</td>\n",
              "      <td>1</td>\n",
              "      <td>1</td>\n",
              "      <td>124762.000000</td>\n",
              "      <td>879</td>\n",
              "      <td>880</td>\n",
              "      <td>2800905</td>\n",
              "      <td>2800905</td>\n",
              "      <td>2451397</td>\n",
              "      <td>52</td>\n",
              "      <td>61662690</td>\n",
              "      <td>9.780062e+12</td>\n",
              "      <td>Kelley Armstrong</td>\n",
              "      <td>2008.0</td>\n",
              "      <td>The Summoning</td>\n",
              "      <td>The Summoning (Darkest Powers, #1)</td>\n",
              "      <td>en-US</td>\n",
              "      <td>4.03</td>\n",
              "      <td>132285</td>\n",
              "      <td>136832</td>\n",
              "      <td>5830</td>\n",
              "      <td>3330</td>\n",
              "      <td>7629</td>\n",
              "      <td>27219</td>\n",
              "      <td>42153</td>\n",
              "      <td>56501</td>\n",
              "      <td>https://images.gr-assets.com/books/1478986944m...</td>\n",
              "      <td>https://images.gr-assets.com/books/1478986944s...</td>\n",
              "      <td>1226</td>\n",
              "      <td>1227</td>\n",
              "      <td>5391115</td>\n",
              "      <td>5391115</td>\n",
              "      <td>4115339</td>\n",
              "      <td>44</td>\n",
              "      <td>61662763</td>\n",
              "      <td>9.780062e+12</td>\n",
              "      <td>Kelley Armstrong</td>\n",
              "      <td>2009.0</td>\n",
              "      <td>The Awakening</td>\n",
              "      <td>The Awakening (Darkest Powers, #2)</td>\n",
              "      <td>eng</td>\n",
              "      <td>4.16</td>\n",
              "      <td>95026</td>\n",
              "      <td>98240</td>\n",
              "      <td>3118</td>\n",
              "      <td>1151</td>\n",
              "      <td>3775</td>\n",
              "      <td>17773</td>\n",
              "      <td>31477</td>\n",
              "      <td>44064</td>\n",
              "      <td>https://images.gr-assets.com/books/1478986806m...</td>\n",
              "      <td>https://images.gr-assets.com/books/1478986806s...</td>\n",
              "    </tr>\n",
              "    <tr>\n",
              "      <th>...</th>\n",
              "      <td>...</td>\n",
              "      <td>...</td>\n",
              "      <td>...</td>\n",
              "      <td>...</td>\n",
              "      <td>...</td>\n",
              "      <td>...</td>\n",
              "      <td>...</td>\n",
              "      <td>...</td>\n",
              "      <td>...</td>\n",
              "      <td>...</td>\n",
              "      <td>...</td>\n",
              "      <td>...</td>\n",
              "      <td>...</td>\n",
              "      <td>...</td>\n",
              "      <td>...</td>\n",
              "      <td>...</td>\n",
              "      <td>...</td>\n",
              "      <td>...</td>\n",
              "      <td>...</td>\n",
              "      <td>...</td>\n",
              "      <td>...</td>\n",
              "      <td>...</td>\n",
              "      <td>...</td>\n",
              "      <td>...</td>\n",
              "      <td>...</td>\n",
              "      <td>...</td>\n",
              "      <td>...</td>\n",
              "      <td>...</td>\n",
              "      <td>...</td>\n",
              "      <td>...</td>\n",
              "      <td>...</td>\n",
              "      <td>...</td>\n",
              "      <td>...</td>\n",
              "      <td>...</td>\n",
              "      <td>...</td>\n",
              "      <td>...</td>\n",
              "      <td>...</td>\n",
              "      <td>...</td>\n",
              "      <td>...</td>\n",
              "      <td>...</td>\n",
              "      <td>...</td>\n",
              "      <td>...</td>\n",
              "      <td>...</td>\n",
              "      <td>...</td>\n",
              "      <td>...</td>\n",
              "      <td>...</td>\n",
              "      <td>...</td>\n",
              "      <td>...</td>\n",
              "      <td>...</td>\n",
              "      <td>...</td>\n",
              "      <td>...</td>\n",
              "      <td>...</td>\n",
              "      <td>...</td>\n",
              "      <td>...</td>\n",
              "    </tr>\n",
              "    <tr>\n",
              "      <th>337204</th>\n",
              "      <td>31</td>\n",
              "      <td>959</td>\n",
              "      <td>1</td>\n",
              "      <td>350</td>\n",
              "      <td>73</td>\n",
              "      <td>4.883053</td>\n",
              "      <td>30</td>\n",
              "      <td>31</td>\n",
              "      <td>4667024</td>\n",
              "      <td>4667024</td>\n",
              "      <td>4717423</td>\n",
              "      <td>183</td>\n",
              "      <td>399155341</td>\n",
              "      <td>9.780399e+12</td>\n",
              "      <td>Kathryn Stockett</td>\n",
              "      <td>2009.0</td>\n",
              "      <td>The Help</td>\n",
              "      <td>The Help</td>\n",
              "      <td>eng</td>\n",
              "      <td>4.45</td>\n",
              "      <td>1531753</td>\n",
              "      <td>1603545</td>\n",
              "      <td>78204</td>\n",
              "      <td>10235</td>\n",
              "      <td>25117</td>\n",
              "      <td>134887</td>\n",
              "      <td>490754</td>\n",
              "      <td>942552</td>\n",
              "      <td>https://images.gr-assets.com/books/1346100365m...</td>\n",
              "      <td>https://images.gr-assets.com/books/1346100365s...</td>\n",
              "      <td>958</td>\n",
              "      <td>959</td>\n",
              "      <td>7588</td>\n",
              "      <td>7588</td>\n",
              "      <td>3298883</td>\n",
              "      <td>766</td>\n",
              "      <td>142437344</td>\n",
              "      <td>9.780142e+12</td>\n",
              "      <td>James Joyce, Seamus Deane</td>\n",
              "      <td>1916.0</td>\n",
              "      <td>A Portrait of the Artist as a Young Man</td>\n",
              "      <td>A Portrait of the Artist as a Young Man</td>\n",
              "      <td>eng</td>\n",
              "      <td>3.60</td>\n",
              "      <td>92569</td>\n",
              "      <td>103232</td>\n",
              "      <td>3934</td>\n",
              "      <td>6367</td>\n",
              "      <td>11067</td>\n",
              "      <td>26108</td>\n",
              "      <td>33169</td>\n",
              "      <td>26521</td>\n",
              "      <td>https://s.gr-assets.com/assets/nophoto/book/11...</td>\n",
              "      <td>https://s.gr-assets.com/assets/nophoto/book/50...</td>\n",
              "    </tr>\n",
              "    <tr>\n",
              "      <th>3064</th>\n",
              "      <td>154</td>\n",
              "      <td>291</td>\n",
              "      <td>1</td>\n",
              "      <td>176</td>\n",
              "      <td>147</td>\n",
              "      <td>4.822279</td>\n",
              "      <td>153</td>\n",
              "      <td>154</td>\n",
              "      <td>8852</td>\n",
              "      <td>8852</td>\n",
              "      <td>1896522</td>\n",
              "      <td>1732</td>\n",
              "      <td>743477103</td>\n",
              "      <td>9.780743e+12</td>\n",
              "      <td>William Shakespeare</td>\n",
              "      <td>1606.0</td>\n",
              "      <td>The Tragedy of Macbeth</td>\n",
              "      <td>Macbeth</td>\n",
              "      <td>eng</td>\n",
              "      <td>3.88</td>\n",
              "      <td>496018</td>\n",
              "      <td>524826</td>\n",
              "      <td>7609</td>\n",
              "      <td>10551</td>\n",
              "      <td>35408</td>\n",
              "      <td>127354</td>\n",
              "      <td>183871</td>\n",
              "      <td>167642</td>\n",
              "      <td>https://images.gr-assets.com/books/1459795224m...</td>\n",
              "      <td>https://images.gr-assets.com/books/1459795224s...</td>\n",
              "      <td>290</td>\n",
              "      <td>291</td>\n",
              "      <td>3591262</td>\n",
              "      <td>3591262</td>\n",
              "      <td>3633533</td>\n",
              "      <td>74</td>\n",
              "      <td>375414495</td>\n",
              "      <td>9.780375e+12</td>\n",
              "      <td>Abraham Verghese</td>\n",
              "      <td>2009.0</td>\n",
              "      <td>Cutting for Stone</td>\n",
              "      <td>Cutting for Stone</td>\n",
              "      <td>eng</td>\n",
              "      <td>4.28</td>\n",
              "      <td>258319</td>\n",
              "      <td>281079</td>\n",
              "      <td>23146</td>\n",
              "      <td>4586</td>\n",
              "      <td>9249</td>\n",
              "      <td>32671</td>\n",
              "      <td>91293</td>\n",
              "      <td>143280</td>\n",
              "      <td>https://images.gr-assets.com/books/1327931601m...</td>\n",
              "      <td>https://images.gr-assets.com/books/1327931601s...</td>\n",
              "    </tr>\n",
              "    <tr>\n",
              "      <th>48287</th>\n",
              "      <td>61</td>\n",
              "      <td>248</td>\n",
              "      <td>1</td>\n",
              "      <td>176</td>\n",
              "      <td>150</td>\n",
              "      <td>4.725833</td>\n",
              "      <td>60</td>\n",
              "      <td>61</td>\n",
              "      <td>22557272</td>\n",
              "      <td>22557272</td>\n",
              "      <td>41107568</td>\n",
              "      <td>14</td>\n",
              "      <td>1594633665</td>\n",
              "      <td>9.781595e+12</td>\n",
              "      <td>Paula Hawkins</td>\n",
              "      <td>2015.0</td>\n",
              "      <td>The Girl on the Train</td>\n",
              "      <td>The Girl on the Train</td>\n",
              "      <td>eng</td>\n",
              "      <td>3.88</td>\n",
              "      <td>1008778</td>\n",
              "      <td>1226485</td>\n",
              "      <td>93600</td>\n",
              "      <td>27773</td>\n",
              "      <td>73897</td>\n",
              "      <td>273817</td>\n",
              "      <td>488447</td>\n",
              "      <td>362551</td>\n",
              "      <td>https://images.gr-assets.com/books/1490903702m...</td>\n",
              "      <td>https://images.gr-assets.com/books/1490903702s...</td>\n",
              "      <td>247</td>\n",
              "      <td>248</td>\n",
              "      <td>1622</td>\n",
              "      <td>1622</td>\n",
              "      <td>894834</td>\n",
              "      <td>1379</td>\n",
              "      <td>743477545</td>\n",
              "      <td>9.780743e+12</td>\n",
              "      <td>William Shakespeare, Barbara A. Mowat, Paul We...</td>\n",
              "      <td>1595.0</td>\n",
              "      <td>A Midsummer Night's Dream</td>\n",
              "      <td>A Midsummer Night's Dream</td>\n",
              "      <td>eng</td>\n",
              "      <td>3.94</td>\n",
              "      <td>334241</td>\n",
              "      <td>361510</td>\n",
              "      <td>5724</td>\n",
              "      <td>5598</td>\n",
              "      <td>20498</td>\n",
              "      <td>84388</td>\n",
              "      <td>130051</td>\n",
              "      <td>120975</td>\n",
              "      <td>https://images.gr-assets.com/books/1327874534m...</td>\n",
              "      <td>https://images.gr-assets.com/books/1327874534s...</td>\n",
              "    </tr>\n",
              "    <tr>\n",
              "      <th>5269</th>\n",
              "      <td>19</td>\n",
              "      <td>112</td>\n",
              "      <td>1</td>\n",
              "      <td>220</td>\n",
              "      <td>135</td>\n",
              "      <td>4.200741</td>\n",
              "      <td>18</td>\n",
              "      <td>19</td>\n",
              "      <td>34</td>\n",
              "      <td>34</td>\n",
              "      <td>3204327</td>\n",
              "      <td>566</td>\n",
              "      <td>618346252</td>\n",
              "      <td>9.780618e+12</td>\n",
              "      <td>J.R.R. Tolkien</td>\n",
              "      <td>1954.0</td>\n",
              "      <td>The Fellowship of the Ring</td>\n",
              "      <td>The Fellowship of the Ring (The Lord of the Ri...</td>\n",
              "      <td>eng</td>\n",
              "      <td>4.34</td>\n",
              "      <td>1766803</td>\n",
              "      <td>1832541</td>\n",
              "      <td>15333</td>\n",
              "      <td>38031</td>\n",
              "      <td>55862</td>\n",
              "      <td>202332</td>\n",
              "      <td>493922</td>\n",
              "      <td>1042394</td>\n",
              "      <td>https://images.gr-assets.com/books/1298411339m...</td>\n",
              "      <td>https://images.gr-assets.com/books/1298411339s...</td>\n",
              "      <td>111</td>\n",
              "      <td>112</td>\n",
              "      <td>15507958</td>\n",
              "      <td>15507958</td>\n",
              "      <td>17763198</td>\n",
              "      <td>168</td>\n",
              "      <td>670026603</td>\n",
              "      <td>9.780670e+12</td>\n",
              "      <td>Jojo Moyes</td>\n",
              "      <td>2012.0</td>\n",
              "      <td>Me Before You</td>\n",
              "      <td>Me Before You (Me Before You, #1)</td>\n",
              "      <td>eng</td>\n",
              "      <td>4.27</td>\n",
              "      <td>587647</td>\n",
              "      <td>741133</td>\n",
              "      <td>71412</td>\n",
              "      <td>10346</td>\n",
              "      <td>21880</td>\n",
              "      <td>91517</td>\n",
              "      <td>249474</td>\n",
              "      <td>367916</td>\n",
              "      <td>https://images.gr-assets.com/books/1357108762m...</td>\n",
              "      <td>https://images.gr-assets.com/books/1357108762s...</td>\n",
              "    </tr>\n",
              "    <tr>\n",
              "      <th>40624</th>\n",
              "      <td>6</td>\n",
              "      <td>297</td>\n",
              "      <td>1</td>\n",
              "      <td>236</td>\n",
              "      <td>148</td>\n",
              "      <td>3.571977</td>\n",
              "      <td>5</td>\n",
              "      <td>6</td>\n",
              "      <td>11870085</td>\n",
              "      <td>11870085</td>\n",
              "      <td>16827462</td>\n",
              "      <td>226</td>\n",
              "      <td>525478817</td>\n",
              "      <td>9.780525e+12</td>\n",
              "      <td>John Green</td>\n",
              "      <td>2012.0</td>\n",
              "      <td>The Fault in Our Stars</td>\n",
              "      <td>The Fault in Our Stars</td>\n",
              "      <td>eng</td>\n",
              "      <td>4.26</td>\n",
              "      <td>2346404</td>\n",
              "      <td>2478609</td>\n",
              "      <td>140739</td>\n",
              "      <td>47994</td>\n",
              "      <td>92723</td>\n",
              "      <td>327550</td>\n",
              "      <td>698471</td>\n",
              "      <td>1311871</td>\n",
              "      <td>https://images.gr-assets.com/books/1360206420m...</td>\n",
              "      <td>https://images.gr-assets.com/books/1360206420s...</td>\n",
              "      <td>296</td>\n",
              "      <td>297</td>\n",
              "      <td>135479</td>\n",
              "      <td>135479</td>\n",
              "      <td>1621115</td>\n",
              "      <td>155</td>\n",
              "      <td>140285601</td>\n",
              "      <td>9.780140e+12</td>\n",
              "      <td>Kurt Vonnegut Jr.</td>\n",
              "      <td>1963.0</td>\n",
              "      <td>Cat's Cradle</td>\n",
              "      <td>Cat's Cradle</td>\n",
              "      <td>eng</td>\n",
              "      <td>4.18</td>\n",
              "      <td>238940</td>\n",
              "      <td>274153</td>\n",
              "      <td>8050</td>\n",
              "      <td>2701</td>\n",
              "      <td>8491</td>\n",
              "      <td>43680</td>\n",
              "      <td>102441</td>\n",
              "      <td>116840</td>\n",
              "      <td>https://images.gr-assets.com/books/1327867150m...</td>\n",
              "      <td>https://images.gr-assets.com/books/1327867150s...</td>\n",
              "    </tr>\n",
              "  </tbody>\n",
              "</table>\n",
              "<p>538507 rows × 54 columns</p>\n",
              "</div>"
            ],
            "text/plain": [
              "        book_id_x  ...                                  small_image_url_y\n",
              "519794       1140  ...  https://s.gr-assets.com/assets/nophoto/book/50...\n",
              "538493        418  ...  https://images.gr-assets.com/books/1360599818s...\n",
              "494143       1140  ...  https://images.gr-assets.com/books/1496938681s...\n",
              "494144       1302  ...  https://images.gr-assets.com/books/1496938681s...\n",
              "538398        880  ...  https://images.gr-assets.com/books/1478986806s...\n",
              "...           ...  ...                                                ...\n",
              "337204         31  ...  https://s.gr-assets.com/assets/nophoto/book/50...\n",
              "3064          154  ...  https://images.gr-assets.com/books/1327931601s...\n",
              "48287          61  ...  https://images.gr-assets.com/books/1327874534s...\n",
              "5269           19  ...  https://images.gr-assets.com/books/1357108762s...\n",
              "40624           6  ...  https://images.gr-assets.com/books/1327867150s...\n",
              "\n",
              "[538507 rows x 54 columns]"
            ]
          },
          "metadata": {
            "tags": []
          },
          "execution_count": 58
        }
      ]
    },
    {
      "cell_type": "code",
      "metadata": {
        "id": "VovkKhwEtuMn",
        "colab_type": "code",
        "colab": {}
      },
      "source": [
        "class dummymodel:\n",
        "  \n",
        "  def __init__(self, numitems):\n",
        "    self.predictions=np.zeros(numitems)\n",
        "  \n",
        "  #uid is the user we are requesting recommendations for;\n",
        "  #returns an array of scores, one for each item\n",
        "  def predict(self, uid):\n",
        "    lift = allstats['lift'].sum()\n",
        "    lift = np.log(lift)\n",
        "lift\n",
        "    #this model returns all zeros, regardless of userid\n",
        "    return( self.predictions )\n",
        "\n",
        "#lets evaluate how the effeciveness of dummymodel\n",
        "\n",
        "print(mrr_score(dummymodel(num_items), test_dataset, train=rating_dataset, k=100).mean())\n",
        "#as expected, a recommendation model that gives 0 scores for all items obtains a MRR score of 0\n",
        "\n"
      ],
      "execution_count": 0,
      "outputs": []
    },
    {
      "cell_type": "code",
      "metadata": {
        "id": "RMPi6TSZ3xXv",
        "colab_type": "code",
        "colab": {}
      },
      "source": [
        "from mlxtend.frequent_patterns import apriori, association_rules\n",
        "\n",
        "frequent_itemsets = apriori(allstats, min_support=0.2, use_colnames=True, max_len=2)\n",
        "\n",
        "rules = association_rules(frequent_itemsets, metric=\"lift\", min_threshold=2)"
      ],
      "execution_count": 0,
      "outputs": []
    }
  ]
}